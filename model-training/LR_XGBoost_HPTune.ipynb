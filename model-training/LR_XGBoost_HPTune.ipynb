{
 "cells": [
  {
   "cell_type": "code",
   "execution_count": 15,
   "metadata": {},
   "outputs": [],
   "source": [
    "import pandas as pd\n",
    "import numpy as np\n",
    "from sklearn.linear_model import LogisticRegression\n",
    "from sklearn.model_selection import train_test_split\n",
    "from sklearn import preprocessing\n",
    "from sklearn.ensemble import RandomForestClassifier\n",
    "import matplotlib.pyplot as plt\n",
    "import xgboost as xgb\n",
    "from sklearn.metrics import precision_recall_fscore_support\n",
    "from sklearn.metrics import roc_auc_score\n",
    "%matplotlib inline"
   ]
  },
  {
   "cell_type": "code",
   "execution_count": 4,
   "metadata": {},
   "outputs": [],
   "source": [
    "data = pd.read_csv(\"ca_nn_zip.csv\")\n",
    "data.drop(\"Unnamed: 0\", axis=1, inplace=True)"
   ]
  },
  {
   "cell_type": "code",
   "execution_count": 13,
   "metadata": {},
   "outputs": [],
   "source": [
    "data_1 = data[data[\"disp\"] == 1].sample(n=200000)\n",
    "data_0 = data[data[\"disp\"] == 0].sample(n=200000)\n",
    "data_model = data_1.append(data_0)"
   ]
  },
  {
   "cell_type": "code",
   "execution_count": 14,
   "metadata": {},
   "outputs": [],
   "source": [
    "# info = data_model[[\"judge\", \"close_date\", \"dist\"]]\n",
    "# data_model.drop([\"judge\", \"close_date\", \"dist\"], axis=1, inplace=True)\n",
    "# train = train.iloc[:, 1:]\n",
    "X = data_model.drop(\"disp\", axis=1)\n",
    "y = data_model[\"disp\"]"
   ]
  },
  {
   "cell_type": "code",
   "execution_count": null,
   "metadata": {},
   "outputs": [],
   "source": [
    "# train = pd.read_csv(\"train_data.csv\")\n",
    "# test = pd.read_csv(\"test_data.csv\")"
   ]
  },
  {
   "cell_type": "code",
   "execution_count": null,
   "metadata": {},
   "outputs": [],
   "source": [
    "# train.drop([\"judge\", \"close_date\", \"dist\"], axis=1, inplace=True)\n",
    "# train = train.iloc[:, 2:]\n",
    "# X_train = train.iloc[:, 1:]\n",
    "# y_train = train.iloc[:, 0]"
   ]
  },
  {
   "cell_type": "code",
   "execution_count": 15,
   "metadata": {},
   "outputs": [],
   "source": [
    "X_train, X_test, y_train, y_test = train_test_split(X, y, test_size=0.33, random_state=42)"
   ]
  },
  {
   "cell_type": "code",
   "execution_count": 21,
   "metadata": {},
   "outputs": [],
   "source": [
    "data_dict = {\"X_train\": X_train, \"X_test\": X_test, \"y_train\": y_train, \"y_test\": y_test}\n",
    "import pickle\n",
    "pickle.dump(data_dict, open(\"data_model.pickle\", \"wb\"))"
   ]
  },
  {
   "cell_type": "code",
   "execution_count": 90,
   "metadata": {},
   "outputs": [],
   "source": [
    "data_dict = pickle.load(open(\"data_model.pickle\", \"rb\"))"
   ]
  },
  {
   "cell_type": "code",
   "execution_count": 91,
   "metadata": {},
   "outputs": [],
   "source": [
    "X_train = data_dict[\"X_train\"]; X_test = data_dict[\"X_test\"]; y_train = data_dict[\"y_train\"]; y_test = data_dict[\"y_test\"]"
   ]
  },
  {
   "cell_type": "code",
   "execution_count": 92,
   "metadata": {},
   "outputs": [],
   "source": [
    "X_train = X_train.reset_index().drop(\"index\", axis=1)"
   ]
  },
  {
   "cell_type": "code",
   "execution_count": 93,
   "metadata": {},
   "outputs": [],
   "source": [
    "X_train.drop([\"judge\", \"close_date\", \"dist\"], axis=1, inplace=True)"
   ]
  },
  {
   "cell_type": "code",
   "execution_count": 94,
   "metadata": {},
   "outputs": [],
   "source": [
    "y_train = y_train.reset_index()[\"disp\"]"
   ]
  },
  {
   "cell_type": "code",
   "execution_count": 95,
   "metadata": {},
   "outputs": [],
   "source": [
    "model = LogisticRegression(C=0.1)"
   ]
  },
  {
   "cell_type": "code",
   "execution_count": 3,
   "metadata": {},
   "outputs": [],
   "source": [
    "Train_all=pd.read_csv('train_data.csv')\n",
    "Test_all=pd.read_csv('test_data.csv')"
   ]
  },
  {
   "cell_type": "code",
   "execution_count": 4,
   "metadata": {},
   "outputs": [
    {
     "data": {
      "text/html": [
       "<div>\n",
       "<style>\n",
       "    .dataframe thead tr:only-child th {\n",
       "        text-align: right;\n",
       "    }\n",
       "\n",
       "    .dataframe thead th {\n",
       "        text-align: left;\n",
       "    }\n",
       "\n",
       "    .dataframe tbody tr th {\n",
       "        vertical-align: top;\n",
       "    }\n",
       "</style>\n",
       "<table border=\"1\" class=\"dataframe\">\n",
       "  <thead>\n",
       "    <tr style=\"text-align: right;\">\n",
       "      <th></th>\n",
       "      <th>Unnamed: 0</th>\n",
       "      <th>Unnamed: 0.1</th>\n",
       "      <th>judge</th>\n",
       "      <th>disp</th>\n",
       "      <th>close_date</th>\n",
       "      <th>0</th>\n",
       "      <th>1</th>\n",
       "      <th>2</th>\n",
       "      <th>3</th>\n",
       "      <th>4</th>\n",
       "      <th>...</th>\n",
       "      <th>196</th>\n",
       "      <th>197</th>\n",
       "      <th>198</th>\n",
       "      <th>199</th>\n",
       "      <th>dist</th>\n",
       "      <th>population</th>\n",
       "      <th>EMP</th>\n",
       "      <th>QP1</th>\n",
       "      <th>AP</th>\n",
       "      <th>EST</th>\n",
       "    </tr>\n",
       "  </thead>\n",
       "  <tbody>\n",
       "    <tr>\n",
       "      <th>0</th>\n",
       "      <td>8373916</td>\n",
       "      <td>8373916</td>\n",
       "      <td>gropper</td>\n",
       "      <td>1</td>\n",
       "      <td>2005.0</td>\n",
       "      <td>-0.001021</td>\n",
       "      <td>-0.005550</td>\n",
       "      <td>-0.158378</td>\n",
       "      <td>-0.174647</td>\n",
       "      <td>-0.050897</td>\n",
       "      <td>...</td>\n",
       "      <td>0.144047</td>\n",
       "      <td>0.041898</td>\n",
       "      <td>0.097750</td>\n",
       "      <td>0.097685</td>\n",
       "      <td>nysb</td>\n",
       "      <td>1.295829</td>\n",
       "      <td>-0.245917</td>\n",
       "      <td>-0.207938</td>\n",
       "      <td>-0.237941</td>\n",
       "      <td>-0.014887</td>\n",
       "    </tr>\n",
       "    <tr>\n",
       "      <th>1</th>\n",
       "      <td>832706</td>\n",
       "      <td>832706</td>\n",
       "      <td>ray</td>\n",
       "      <td>0</td>\n",
       "      <td>2001.0</td>\n",
       "      <td>0.107506</td>\n",
       "      <td>-0.091913</td>\n",
       "      <td>-0.078899</td>\n",
       "      <td>0.029590</td>\n",
       "      <td>-0.069429</td>\n",
       "      <td>...</td>\n",
       "      <td>0.078276</td>\n",
       "      <td>-0.140648</td>\n",
       "      <td>-0.111570</td>\n",
       "      <td>-0.061985</td>\n",
       "      <td>flsb</td>\n",
       "      <td>3.272111</td>\n",
       "      <td>2.028752</td>\n",
       "      <td>1.174597</td>\n",
       "      <td>1.360393</td>\n",
       "      <td>3.696264</td>\n",
       "    </tr>\n",
       "    <tr>\n",
       "      <th>2</th>\n",
       "      <td>11542043</td>\n",
       "      <td>11542043</td>\n",
       "      <td>bishop</td>\n",
       "      <td>0</td>\n",
       "      <td>2004.0</td>\n",
       "      <td>0.080675</td>\n",
       "      <td>0.090888</td>\n",
       "      <td>-0.044058</td>\n",
       "      <td>0.040248</td>\n",
       "      <td>-0.145228</td>\n",
       "      <td>...</td>\n",
       "      <td>0.030557</td>\n",
       "      <td>0.049069</td>\n",
       "      <td>0.032838</td>\n",
       "      <td>0.007485</td>\n",
       "      <td>scb</td>\n",
       "      <td>-0.362766</td>\n",
       "      <td>-0.427924</td>\n",
       "      <td>-0.266434</td>\n",
       "      <td>-0.306593</td>\n",
       "      <td>-0.531797</td>\n",
       "    </tr>\n",
       "    <tr>\n",
       "      <th>3</th>\n",
       "      <td>5931345</td>\n",
       "      <td>5931345</td>\n",
       "      <td>zive</td>\n",
       "      <td>1</td>\n",
       "      <td>2002.0</td>\n",
       "      <td>-0.078478</td>\n",
       "      <td>0.196416</td>\n",
       "      <td>0.266431</td>\n",
       "      <td>0.038255</td>\n",
       "      <td>-0.063111</td>\n",
       "      <td>...</td>\n",
       "      <td>-0.056290</td>\n",
       "      <td>0.186726</td>\n",
       "      <td>-0.112553</td>\n",
       "      <td>0.098445</td>\n",
       "      <td>nvb</td>\n",
       "      <td>0.713212</td>\n",
       "      <td>0.651378</td>\n",
       "      <td>0.314474</td>\n",
       "      <td>0.434019</td>\n",
       "      <td>1.350286</td>\n",
       "    </tr>\n",
       "    <tr>\n",
       "      <th>4</th>\n",
       "      <td>10893858</td>\n",
       "      <td>10893858</td>\n",
       "      <td>dow</td>\n",
       "      <td>1</td>\n",
       "      <td>2005.0</td>\n",
       "      <td>0.227382</td>\n",
       "      <td>0.042654</td>\n",
       "      <td>0.041298</td>\n",
       "      <td>0.071445</td>\n",
       "      <td>-0.245597</td>\n",
       "      <td>...</td>\n",
       "      <td>-0.068924</td>\n",
       "      <td>-0.117925</td>\n",
       "      <td>0.088365</td>\n",
       "      <td>-0.034923</td>\n",
       "      <td>mowb</td>\n",
       "      <td>-0.421810</td>\n",
       "      <td>-0.423024</td>\n",
       "      <td>-0.272311</td>\n",
       "      <td>-0.316323</td>\n",
       "      <td>-0.441669</td>\n",
       "    </tr>\n",
       "  </tbody>\n",
       "</table>\n",
       "<p>5 rows × 211 columns</p>\n",
       "</div>"
      ],
      "text/plain": [
       "   Unnamed: 0  Unnamed: 0.1    judge  disp  close_date         0         1  \\\n",
       "0     8373916       8373916  gropper     1      2005.0 -0.001021 -0.005550   \n",
       "1      832706        832706      ray     0      2001.0  0.107506 -0.091913   \n",
       "2    11542043      11542043   bishop     0      2004.0  0.080675  0.090888   \n",
       "3     5931345       5931345     zive     1      2002.0 -0.078478  0.196416   \n",
       "4    10893858      10893858      dow     1      2005.0  0.227382  0.042654   \n",
       "\n",
       "          2         3         4    ...          196       197       198  \\\n",
       "0 -0.158378 -0.174647 -0.050897    ...     0.144047  0.041898  0.097750   \n",
       "1 -0.078899  0.029590 -0.069429    ...     0.078276 -0.140648 -0.111570   \n",
       "2 -0.044058  0.040248 -0.145228    ...     0.030557  0.049069  0.032838   \n",
       "3  0.266431  0.038255 -0.063111    ...    -0.056290  0.186726 -0.112553   \n",
       "4  0.041298  0.071445 -0.245597    ...    -0.068924 -0.117925  0.088365   \n",
       "\n",
       "        199  dist  population       EMP       QP1        AP       EST  \n",
       "0  0.097685  nysb    1.295829 -0.245917 -0.207938 -0.237941 -0.014887  \n",
       "1 -0.061985  flsb    3.272111  2.028752  1.174597  1.360393  3.696264  \n",
       "2  0.007485   scb   -0.362766 -0.427924 -0.266434 -0.306593 -0.531797  \n",
       "3  0.098445   nvb    0.713212  0.651378  0.314474  0.434019  1.350286  \n",
       "4 -0.034923  mowb   -0.421810 -0.423024 -0.272311 -0.316323 -0.441669  \n",
       "\n",
       "[5 rows x 211 columns]"
      ]
     },
     "execution_count": 4,
     "metadata": {},
     "output_type": "execute_result"
    }
   ],
   "source": [
    "X_train=Train_all.drop('Unnamed: 0',axis=1).drop('Unnamed: 0.1',axis=1).drop('disp')"
   ]
  },
  {
   "cell_type": "code",
   "execution_count": null,
   "metadata": {},
   "outputs": [],
   "source": [
    "X_train, X_test, y_train, y_test = train_test_split(X, y, test_size=0.01, random_state=1729)\n",
    "\n",
    "test_fold = [-1]*len(X_train) + [0]*len(X_test)   #0 corresponds to test, -1 to train\n",
    "predefined_split = PredefinedSplit(test_fold=test_fold)\n",
    "param_grid = [{'max_depth':[10,15,20],'learning_rate':[0.1,0.02,0.005],'n_estimators':[10,50,500]},\n",
    "              'min_child_weight':[1,5,20],'subsample':[0.6,0.8,0.85]]\n",
    "kernel_estimator = xgb.XGBClassifier()\n",
    "grid = GridSearchCV(kernel_estimator, \n",
    "                    param_grid,\n",
    "                    cv = predefined_split,\n",
    "                    scoring = make_scorer(mean_squared_error,greater_is_better = False)\n",
    "                    #n_jobs = -1  #should allow parallelism, but crashes Python on my machine\n",
    "                   )\n",
    "grid.fit(np.vstack((X_train,X_test)),np.append(y_train.values,y_test.values))"
   ]
  },
  {
   "cell_type": "code",
   "execution_count": null,
   "metadata": {},
   "outputs": [],
   "source": [
    "\n",
    "print(X_train.shape, X_test.shape)\n",
    "\n",
    "xlf = xgb.XGBClassifier(max_depth=10, \n",
    "                        learning_rate=0.1, \n",
    "                        n_estimators=10, \n",
    "                        silent=True, \n",
    "                        objective='reg:linear', \n",
    "                        nthread=-1, \n",
    "                        gamma=0,\n",
    "                        min_child_weight=1, \n",
    "                        max_delta_step=0, \n",
    "                        subsample=0.85, \n",
    "                        colsample_bytree=0.7, \n",
    "                        colsample_bylevel=1, \n",
    "                        reg_alpha=0, \n",
    "                        reg_lambda=1, \n",
    "                        scale_pos_weight=1, \n",
    "                        seed=1440, \n",
    "                        missing=None)\n",
    "\n",
    "xlf.fit(X_train, y_train, eval_metric='rmse', verbose = True, eval_set = [(X_test, y_test)],early_stopping_rounds=100)\n",
    "\n",
    "preds = xlf.predict(X_test)"
   ]
  },
  {
   "cell_type": "code",
   "execution_count": 96,
   "metadata": {},
   "outputs": [
    {
     "data": {
      "text/plain": [
       "LogisticRegression(C=0.1, class_weight=None, dual=False, fit_intercept=True,\n",
       "          intercept_scaling=1, max_iter=100, multi_class='ovr', n_jobs=1,\n",
       "          penalty='l2', random_state=None, solver='liblinear', tol=0.0001,\n",
       "          verbose=0, warm_start=False)"
      ]
     },
     "execution_count": 96,
     "metadata": {},
     "output_type": "execute_result"
    }
   ],
   "source": [
    "model.fit(X_train, y_train)"
   ]
  },
  {
   "cell_type": "code",
   "execution_count": 97,
   "metadata": {},
   "outputs": [],
   "source": [
    "X_test = X_test.reset_index().drop(\"index\", axis=1)\n",
    "y_test = y_test.reset_index()[\"disp\"]"
   ]
  },
  {
   "cell_type": "code",
   "execution_count": 98,
   "metadata": {},
   "outputs": [],
   "source": [
    "info = X_test[[\"judge\", \"close_date\", \"dist\"]]\n",
    "X_test.drop([\"judge\", \"close_date\", \"dist\"], axis=1, inplace=True)"
   ]
  },
  {
   "cell_type": "code",
   "execution_count": 99,
   "metadata": {},
   "outputs": [],
   "source": [
    "y_pred = model.predict(X_test)"
   ]
  },
  {
   "cell_type": "code",
   "execution_count": 116,
   "metadata": {},
   "outputs": [
    {
     "data": {
      "text/plain": [
       "0.641780303030303"
      ]
     },
     "execution_count": 116,
     "metadata": {},
     "output_type": "execute_result"
    }
   ],
   "source": [
    "model.score(X_test, y_test)"
   ]
  },
  {
   "cell_type": "code",
   "execution_count": 112,
   "metadata": {},
   "outputs": [
    {
     "data": {
      "text/plain": [
       "0.49562121212121213"
      ]
     },
     "execution_count": 112,
     "metadata": {},
     "output_type": "execute_result"
    }
   ],
   "source": [
    "y_pred.sum()/len(y_pred)"
   ]
  },
  {
   "cell_type": "code",
   "execution_count": 101,
   "metadata": {},
   "outputs": [
    {
     "data": {
      "text/plain": [
       "(array([0.63953558, 0.64406469]),\n",
       " array([0.64645867, 0.63712104]),\n",
       " array([0.64297849, 0.64057405]),\n",
       " array([65865, 66135]))"
      ]
     },
     "execution_count": 101,
     "metadata": {},
     "output_type": "execute_result"
    }
   ],
   "source": [
    "precision_recall_fscore_support(y_test, y_pred)"
   ]
  },
  {
   "cell_type": "code",
   "execution_count": 102,
   "metadata": {},
   "outputs": [
    {
     "data": {
      "text/plain": [
       "0.6968138682122931"
      ]
     },
     "execution_count": 102,
     "metadata": {},
     "output_type": "execute_result"
    }
   ],
   "source": [
    "\n",
    "y_prob = model.predict_proba(X_test)[:, 1]\n",
    "roc_auc_score(y_test, y_prob)"
   ]
  },
  {
   "cell_type": "code",
   "execution_count": 103,
   "metadata": {},
   "outputs": [
    {
     "name": "stderr",
     "output_type": "stream",
     "text": [
      "/home/yn811/miniconda3/lib/python3.6/site-packages/ipykernel_launcher.py:1: SettingWithCopyWarning: \n",
      "A value is trying to be set on a copy of a slice from a DataFrame.\n",
      "Try using .loc[row_indexer,col_indexer] = value instead\n",
      "\n",
      "See the caveats in the documentation: http://pandas.pydata.org/pandas-docs/stable/indexing.html#indexing-view-versus-copy\n",
      "  \"\"\"Entry point for launching an IPython kernel.\n"
     ]
    }
   ],
   "source": [
    "info[\"judge_dist\"] = info[\"judge\"] + \" \" + info[\"dist\"]"
   ]
  },
  {
   "cell_type": "code",
   "execution_count": 105,
   "metadata": {},
   "outputs": [
    {
     "data": {
      "text/plain": [
       "[<matplotlib.lines.Line2D at 0x2b9da9495da0>]"
      ]
     },
     "execution_count": 105,
     "metadata": {},
     "output_type": "execute_result"
    },
    {
     "data": {
      "image/png": "[encoded data removed]",
      "text/plain": [
       "<Figure size 432x288 with 1 Axes>"
      ]
     },
     "metadata": {},
     "output_type": "display_data"
    }
   ],
   "source": [
    "years = info.groupby(\"close_date\").count()\n",
    "years = np.array(sorted(years.index[years[\"judge\"] > 100]))\n",
    "years = years[years > 0]\n",
    "precisions = []\n",
    "for year in years:\n",
    "    index = (info[\"close_date\"] == year)\n",
    "    x = X_test[index]\n",
    "    y = y_test[index]\n",
    "    precisions.append(model.score(x, y))\n",
    "plt.plot(years, precisions)"
   ]
  },
  {
   "cell_type": "code",
   "execution_count": 107,
   "metadata": {},
   "outputs": [
    {
     "data": {
      "text/plain": [
       "[<matplotlib.lines.Line2D at 0x2b9dc7012080>]"
      ]
     },
     "execution_count": 107,
     "metadata": {},
     "output_type": "execute_result"
    },
    {
     "data": {
      "image/png": "[encoded data removed]",
      "text/plain": [
       "<Figure size 432x288 with 1 Axes>"
      ]
     },
     "metadata": {},
     "output_type": "display_data"
    }
   ],
   "source": [
    "dists = info.groupby(\"dist\").count()\n",
    "dists = dists.index[dists[\"judge\"] > 100]\n",
    "precisions = []\n",
    "for dist in dists:\n",
    "    index = (info[\"dist\"] == dist)\n",
    "    x = X_test[index]\n",
    "    y = y_test[index]\n",
    "    precisions.append(model.score(x, y))\n",
    "plt.plot(precisions)"
   ]
  },
  {
   "cell_type": "code",
   "execution_count": 108,
   "metadata": {},
   "outputs": [
    {
     "data": {
      "text/plain": [
       "[<matplotlib.lines.Line2D at 0x2b9dd0a907f0>]"
      ]
     },
     "execution_count": 108,
     "metadata": {},
     "output_type": "execute_result"
    },
    {
     "data": {
      "image/png": "[encoded data removed]",
      "text/plain": [
       "<Figure size 432x288 with 1 Axes>"
      ]
     },
     "metadata": {},
     "output_type": "display_data"
    }
   ],
   "source": [
    "judges = info.groupby(\"judge_dist\").count()\n",
    "judges = judges.index[judges[\"judge\"] > 100]\n",
    "precisions = []\n",
    "for judge in judges:\n",
    "    index = (info[\"judge_dist\"] == judge)\n",
    "    x = X_test[index]\n",
    "    y = y_test[index]\n",
    "    precisions.append(model.score(x, y))\n",
    "plt.plot(precisions)"
   ]
  },
  {
   "cell_type": "code",
   "execution_count": 109,
   "metadata": {},
   "outputs": [],
   "source": [
    "for judge in judges[np.array(precisions) == 1]:\n",
    "    if not (y_test[info[\"judge_dist\"] == judge].count() == y_test[info[\"judge_dist\"] == judge].sum()):\n",
    "        print(judge)"
   ]
  },
  {
   "cell_type": "code",
   "execution_count": 110,
   "metadata": {},
   "outputs": [],
   "source": [
    "perc = []\n",
    "for judge in judges[np.array(precisions) < 0.6]:\n",
    "    perc.append(y_test[info[\"judge_dist\"] == judge].sum() / y_test[info[\"judge_dist\"] == judge].count())"
   ]
  },
  {
   "cell_type": "code",
   "execution_count": 111,
   "metadata": {},
   "outputs": [
    {
     "data": {
      "text/plain": [
       "(array([ 1.,  0.,  8., 18., 45., 44.,  6.,  2.,  0.,  1.]),\n",
       " array([0.03846154, 0.13461538, 0.23076923, 0.32692308, 0.42307692,\n",
       "        0.51923077, 0.61538462, 0.71153846, 0.80769231, 0.90384615,\n",
       "        1.        ]),\n",
       " <a list of 10 Patch objects>)"
      ]
     },
     "execution_count": 111,
     "metadata": {},
     "output_type": "execute_result"
    },
    {
     "data": {
      "image/png": "[encoded data removed]",
      "text/plain": [
       "<Figure size 432x288 with 1 Axes>"
      ]
     },
     "metadata": {},
     "output_type": "display_data"
    }
   ],
   "source": [
    "plt.hist(perc)"
   ]
  },
  {
   "cell_type": "code",
   "execution_count": 6,
   "metadata": {},
   "outputs": [],
   "source": [
    "train = pd.read_csv(\"train_data.csv\")\n",
    "test = pd.read_csv(\"test_data.csv\")\n",
    "train.drop([\"judge\", \"close_date\", \"dist\"], axis=1, inplace=True)\n",
    "train = train.iloc[:, 2:]\n",
    "X_train = train.iloc[:, 1:]\n",
    "y_train = train.iloc[:, 0]\n",
    "test.drop([\"judge\", \"close_date\", \"dist\"], axis=1, inplace=True)\n",
    "test = test.iloc[:, 2:]\n",
    "X_test = test.iloc[:, 1:]\n",
    "y_test = test.iloc[:, 0]"
   ]
  },
  {
   "cell_type": "code",
   "execution_count": 7,
   "metadata": {},
   "outputs": [
    {
     "name": "stdout",
     "output_type": "stream",
     "text": [
      "[0]\tvalidation_0-error:0.144477\n",
      "[1]\tvalidation_0-error:0.144375\n",
      "[2]\tvalidation_0-error:0.144375\n",
      "[3]\tvalidation_0-error:0.144328\n",
      "[4]\tvalidation_0-error:0.143942\n",
      "[5]\tvalidation_0-error:0.144359\n",
      "[6]\tvalidation_0-error:0.144446\n",
      "[7]\tvalidation_0-error:0.144548\n",
      "[8]\tvalidation_0-error:0.144847\n",
      "[9]\tvalidation_0-error:0.145225\n",
      "[10]\tvalidation_0-error:0.145225\n",
      "[11]\tvalidation_0-error:0.145225\n",
      "[12]\tvalidation_0-error:0.145225\n",
      "[13]\tvalidation_0-error:0.145225\n",
      "[14]\tvalidation_0-error:0.145225\n",
      "[15]\tvalidation_0-error:0.145225\n",
      "[16]\tvalidation_0-error:0.145225\n",
      "[17]\tvalidation_0-error:0.145225\n",
      "[18]\tvalidation_0-error:0.145225\n",
      "[19]\tvalidation_0-error:0.145225\n",
      "[20]\tvalidation_0-error:0.145225\n",
      "[21]\tvalidation_0-error:0.145225\n",
      "[22]\tvalidation_0-error:0.145225\n",
      "[23]\tvalidation_0-error:0.145225\n",
      "[24]\tvalidation_0-error:0.145225\n",
      "[25]\tvalidation_0-error:0.145225\n",
      "[26]\tvalidation_0-error:0.145115\n",
      "[27]\tvalidation_0-error:0.145115\n",
      "[28]\tvalidation_0-error:0.145115\n",
      "[29]\tvalidation_0-error:0.145115\n",
      "[30]\tvalidation_0-error:0.145115\n",
      "[31]\tvalidation_0-error:0.145115\n",
      "[32]\tvalidation_0-error:0.145115\n",
      "[33]\tvalidation_0-error:0.145131\n",
      "[34]\tvalidation_0-error:0.145123\n",
      "[35]\tvalidation_0-error:0.145123\n",
      "[36]\tvalidation_0-error:0.145123\n",
      "[37]\tvalidation_0-error:0.145123\n",
      "[38]\tvalidation_0-error:0.145123\n",
      "[39]\tvalidation_0-error:0.145139\n",
      "[40]\tvalidation_0-error:0.145044\n",
      "[41]\tvalidation_0-error:0.14469\n",
      "[42]\tvalidation_0-error:0.144698\n",
      "[43]\tvalidation_0-error:0.144698\n",
      "[44]\tvalidation_0-error:0.144698\n",
      "[45]\tvalidation_0-error:0.144698\n",
      "[46]\tvalidation_0-error:0.144706\n",
      "[47]\tvalidation_0-error:0.144706\n",
      "[48]\tvalidation_0-error:0.144706\n",
      "[49]\tvalidation_0-error:0.144698\n",
      "[50]\tvalidation_0-error:0.144706\n",
      "[51]\tvalidation_0-error:0.144706\n",
      "[52]\tvalidation_0-error:0.144682\n",
      "[53]\tvalidation_0-error:0.14469\n",
      "[54]\tvalidation_0-error:0.144784\n",
      "[55]\tvalidation_0-error:0.144792\n",
      "[56]\tvalidation_0-error:0.144784\n",
      "[57]\tvalidation_0-error:0.144525\n",
      "[58]\tvalidation_0-error:0.144525\n",
      "[59]\tvalidation_0-error:0.144257\n",
      "[60]\tvalidation_0-error:0.144233\n",
      "[61]\tvalidation_0-error:0.144233\n",
      "[62]\tvalidation_0-error:0.144163\n",
      "[63]\tvalidation_0-error:0.144163\n",
      "[64]\tvalidation_0-error:0.144226\n",
      "[65]\tvalidation_0-error:0.144139\n",
      "[66]\tvalidation_0-error:0.144139\n",
      "[67]\tvalidation_0-error:0.144005\n",
      "[68]\tvalidation_0-error:0.143966\n",
      "[69]\tvalidation_0-error:0.143926\n",
      "[70]\tvalidation_0-error:0.143911\n",
      "[71]\tvalidation_0-error:0.143848\n",
      "[72]\tvalidation_0-error:0.143801\n",
      "[73]\tvalidation_0-error:0.143848\n",
      "[74]\tvalidation_0-error:0.143659\n",
      "[75]\tvalidation_0-error:0.143667\n",
      "[76]\tvalidation_0-error:0.143738\n",
      "[77]\tvalidation_0-error:0.143682\n",
      "[78]\tvalidation_0-error:0.143564\n",
      "[79]\tvalidation_0-error:0.143549\n",
      "[80]\tvalidation_0-error:0.143564\n",
      "[81]\tvalidation_0-error:0.143549\n",
      "[82]\tvalidation_0-error:0.143541\n",
      "[83]\tvalidation_0-error:0.143549\n",
      "[84]\tvalidation_0-error:0.143415\n",
      "[85]\tvalidation_0-error:0.143438\n",
      "[86]\tvalidation_0-error:0.14347\n",
      "[87]\tvalidation_0-error:0.143438\n",
      "[88]\tvalidation_0-error:0.143297\n",
      "[89]\tvalidation_0-error:0.143218\n",
      "[90]\tvalidation_0-error:0.143242\n",
      "[91]\tvalidation_0-error:0.143234\n",
      "[92]\tvalidation_0-error:0.143289\n",
      "[93]\tvalidation_0-error:0.143226\n",
      "[94]\tvalidation_0-error:0.143226\n",
      "[95]\tvalidation_0-error:0.143124\n",
      "[96]\tvalidation_0-error:0.143124\n",
      "[97]\tvalidation_0-error:0.143226\n",
      "[98]\tvalidation_0-error:0.143234\n",
      "[99]\tvalidation_0-error:0.143202\n"
     ]
    },
    {
     "data": {
      "text/plain": [
       "XGBClassifier(base_score=0.5, booster='gbtree', colsample_bylevel=1,\n",
       "       colsample_bytree=1, gamma=0, learning_rate=0.1, max_delta_step=0,\n",
       "       max_depth=3, min_child_weight=1, missing=None, n_estimators=100,\n",
       "       n_jobs=1, nthread=None, objective='binary:logistic', random_state=0,\n",
       "       reg_alpha=0, reg_lambda=1, scale_pos_weight=1, seed=None,\n",
       "       silent=True, subsample=1)"
      ]
     },
     "execution_count": 7,
     "metadata": {},
     "output_type": "execute_result"
    }
   ],
   "source": [
    "xlf = xgb.XGBClassifier()\n",
    "xlf.fit(X_train, y_train, eval_set = [(X_test, y_test)])"
   ]
  },
  {
   "cell_type": "code",
   "execution_count": 9,
   "metadata": {},
   "outputs": [
    {
     "name": "stderr",
     "output_type": "stream",
     "text": [
      "C:\\Applications\\Programming\\Anaconda\\lib\\site-packages\\sklearn\\preprocessing\\label.py:151: DeprecationWarning: The truth value of an empty array is ambiguous. Returning False, but in future this will result in an error. Use `array.size > 0` to check that an array is not empty.\n",
      "  if diff:\n"
     ]
    }
   ],
   "source": [
    "y_pred=xlf.predict(X_test)"
   ]
  },
  {
   "cell_type": "code",
   "execution_count": 12,
   "metadata": {},
   "outputs": [
    {
     "data": {
      "text/plain": [
       "(array([0.59042928, 0.85981055]),\n",
       " array([0.04547179, 0.99464088]),\n",
       " array([0.08444042, 0.92232421]),\n",
       " array([ 18451, 108600], dtype=int64))"
      ]
     },
     "execution_count": 12,
     "metadata": {},
     "output_type": "execute_result"
    }
   ],
   "source": [
    "precision_recall_fscore_support(y_test, y_pred)"
   ]
  },
  {
   "cell_type": "code",
   "execution_count": 16,
   "metadata": {},
   "outputs": [
    {
     "data": {
      "text/plain": [
       "0.7363796853604485"
      ]
     },
     "execution_count": 16,
     "metadata": {},
     "output_type": "execute_result"
    }
   ],
   "source": [
    "y_prob = xlf.predict_proba(X_test)[:, 1]\n",
    "roc_auc_score(y_test, y_prob)"
   ]
  },
  {
   "cell_type": "code",
   "execution_count": 100,
   "metadata": {},
   "outputs": [
    {
     "data": {
      "text/plain": [
       "0.49562121212121213"
      ]
     },
     "execution_count": 100,
     "metadata": {},
     "output_type": "execute_result"
    }
   ],
   "source": [
    "y_pred.sum()/len(y_pred)"
   ]
  },
  {
   "cell_type": "code",
   "execution_count": 17,
   "metadata": {},
   "outputs": [
    {
     "name": "stderr",
     "output_type": "stream",
     "text": [
      "C:\\Applications\\Programming\\Anaconda\\lib\\site-packages\\sklearn\\preprocessing\\label.py:151: DeprecationWarning: The truth value of an empty array is ambiguous. Returning False, but in future this will result in an error. Use `array.size > 0` to check that an array is not empty.\n",
      "  if diff:\n"
     ]
    },
    {
     "data": {
      "text/plain": [
       "0.8567976639302327"
      ]
     },
     "execution_count": 17,
     "metadata": {},
     "output_type": "execute_result"
    }
   ],
   "source": [
    "xlf.score(X_test, y_test)"
   ]
  },
  {
   "cell_type": "code",
   "execution_count": null,
   "metadata": {},
   "outputs": [],
   "source": []
  }
 ],
 "metadata": {
  "kernelspec": {
   "display_name": "Python 3",
   "language": "python",
   "name": "python3"
  },
  "language_info": {
   "codemirror_mode": {
    "name": "ipython",
    "version": 3
   },
   "file_extension": ".py",
   "mimetype": "text/x-python",
   "name": "python",
   "nbconvert_exporter": "python",
   "pygments_lexer": "ipython3",
   "version": "3.6.3"
  }
 },
 "nbformat": 4,
 "nbformat_minor": 2
}
