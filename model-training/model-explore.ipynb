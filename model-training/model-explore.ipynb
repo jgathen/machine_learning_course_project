{
 "cells": [
  {
   "cell_type": "code",
   "execution_count": 2,
   "metadata": {},
   "outputs": [],
   "source": [
    "import pandas as pd\n",
    "import numpy as np\n",
    "from sklearn.linear_model import LogisticRegression\n",
    "from sklearn.model_selection import train_test_split\n",
    "from sklearn import preprocessing\n",
    "import matplotlib.pyplot as plt\n",
    "import pickle\n",
    "from sklearn.metrics import precision_recall_fscore_support\n",
    "from sklearn.ensemble import RandomForestClassifier\n",
    "from sklearn.ensemble import GradientBoostingClassifier\n",
    "from sklearn.metrics import roc_auc_score\n",
    "from sklearn.svm import SVC\n",
    "%matplotlib inline"
   ]
  },
  {
   "cell_type": "code",
   "execution_count": 99,
   "metadata": {},
   "outputs": [],
   "source": [
    "data = pd.read_csv(\"ca_tfidf_zip.csv\")\n",
    "data.drop(data.columns[:3], axis=1, inplace=True)"
   ]
  },
  {
   "cell_type": "code",
   "execution_count": 105,
   "metadata": {},
   "outputs": [
    {
     "data": {
      "text/plain": [
       "(3176846, 509)"
      ]
     },
     "execution_count": 105,
     "metadata": {},
     "output_type": "execute_result"
    }
   ],
   "source": [
    "data.shape"
   ]
  },
  {
   "cell_type": "code",
   "execution_count": 106,
   "metadata": {},
   "outputs": [
    {
     "data": {
      "text/plain": [
       "(458639, 509)"
      ]
     },
     "execution_count": 106,
     "metadata": {},
     "output_type": "execute_result"
    }
   ],
   "source": [
    "data[data[\"disp\"] == 0].shape"
   ]
  },
  {
   "cell_type": "code",
   "execution_count": 107,
   "metadata": {},
   "outputs": [
    {
     "data": {
      "text/plain": [
       "448"
      ]
     },
     "execution_count": 107,
     "metadata": {},
     "output_type": "execute_result"
    }
   ],
   "source": [
    "(data[\"dist\"] + data[\"judge\"]).nunique()"
   ]
  },
  {
   "cell_type": "code",
   "execution_count": 108,
   "metadata": {},
   "outputs": [
    {
     "data": {
      "text/plain": [
       "73"
      ]
     },
     "execution_count": 108,
     "metadata": {},
     "output_type": "execute_result"
    }
   ],
   "source": [
    "data[\"dist\"].nunique()"
   ]
  },
  {
   "cell_type": "code",
   "execution_count": 157,
   "metadata": {},
   "outputs": [],
   "source": [
    "data_1 = data[data[\"disp\"] == 1].sample(n=400000)\n",
    "data_0 = data[data[\"disp\"] == 0].sample(n=400000)\n",
    "data_model = data_1.append(data_0)\n",
    "X = data_model.drop(\"disp\", axis=1)\n",
    "y = data_model[\"disp\"]"
   ]
  },
  {
   "cell_type": "code",
   "execution_count": 158,
   "metadata": {},
   "outputs": [],
   "source": [
    "X_train, X_test, y_train, y_test = train_test_split(X, y, test_size=0.33, random_state=42)"
   ]
  },
  {
   "cell_type": "markdown",
   "metadata": {},
   "source": [
    "Save data as dictionary"
   ]
  },
  {
   "cell_type": "code",
   "execution_count": 22,
   "metadata": {},
   "outputs": [],
   "source": [
    "data_dict = {\"X_train\": X_train, \"X_test\": X_test, \"y_train\": y_train, \"y_test\": y_test}\n",
    "import pickle\n",
    "pickle.dump(data_dict, open(\"data_model_tfidf.pickle\", \"wb\"))"
   ]
  },
  {
   "cell_type": "markdown",
   "metadata": {},
   "source": [
    "Load data"
   ]
  },
  {
   "cell_type": "code",
   "execution_count": 3,
   "metadata": {},
   "outputs": [],
   "source": [
    "data_dict = pickle.load(open(\"data_model_tfidf.pickle\", \"rb\"))\n",
    "X_train = data_dict[\"X_train\"]; X_test = data_dict[\"X_test\"]; y_train = data_dict[\"y_train\"]; y_test = data_dict[\"y_test\"]"
   ]
  },
  {
   "cell_type": "code",
   "execution_count": 4,
   "metadata": {},
   "outputs": [],
   "source": [
    "X_train = X_train.reset_index().drop(\"index\", axis=1)\n",
    "X_train.drop([\"judge\", \"close_date\", \"dist\"], axis=1, inplace=True)\n",
    "y_train = y_train.reset_index()[\"disp\"]"
   ]
  },
  {
   "cell_type": "code",
   "execution_count": 5,
   "metadata": {},
   "outputs": [
    {
     "name": "stderr",
     "output_type": "stream",
     "text": [
      "/home/yn811/miniconda3/lib/python3.6/site-packages/ipykernel_launcher.py:4: SettingWithCopyWarning: \n",
      "A value is trying to be set on a copy of a slice from a DataFrame.\n",
      "Try using .loc[row_indexer,col_indexer] = value instead\n",
      "\n",
      "See the caveats in the documentation: http://pandas.pydata.org/pandas-docs/stable/indexing.html#indexing-view-versus-copy\n",
      "  after removing the cwd from sys.path.\n"
     ]
    }
   ],
   "source": [
    "X_test = X_test.reset_index().drop(\"index\", axis=1)\n",
    "y_test = y_test.reset_index()[\"disp\"]\n",
    "info = X_test[[\"judge\", \"close_date\", \"dist\"]]\n",
    "info[\"judge_dist\"] = info[\"judge\"] + \" \" + info[\"dist\"]\n",
    "X_test.drop([\"judge\", \"close_date\", \"dist\"], axis=1, inplace=True)"
   ]
  },
  {
   "cell_type": "code",
   "execution_count": 6,
   "metadata": {},
   "outputs": [],
   "source": [
    "def standardize(X_train, X_test):\n",
    "    mean = X_train.mean()\n",
    "    std = X_train.std()\n",
    "    constant_cols = X_train.columns[std == 0]\n",
    "    X_train.drop(constant_cols, axis=1, inplace=True)\n",
    "    X_test.drop(constant_cols, axis=1, inplace=True)\n",
    "    mean = mean[std > 0]\n",
    "    std = std[std > 0]\n",
    "    X_train = X_train - mean; X_train = X_train / std\n",
    "    X_test = X_test - mean; X_test = X_test / std\n",
    "    return X_train, X_test"
   ]
  },
  {
   "cell_type": "code",
   "execution_count": 7,
   "metadata": {},
   "outputs": [],
   "source": [
    "X_train, X_test = standardize(X_train, X_test)"
   ]
  },
  {
   "cell_type": "code",
   "execution_count": null,
   "metadata": {},
   "outputs": [],
   "source": [
    "# y_train = (y_train * 2) - 1\n",
    "# y_test = (y_test * 2) - 1\n",
    "model = SVC()\n",
    "model.fit(X_train, y_train)\n",
    "y_pred = model.predict(X_test)\n",
    "y_prob = model.predict_proba(X_test)[:, 1]\n",
    "print(\"Model accuracy: {}\".format(model.score(X_test, y_test)))\n",
    "print(\"Percentage of prdicted discharge: {}\".format(y_pred.sum()/len(y_pred)))\n",
    "print(\"Precision and Recall: {}\".format(precision_recall_fscore_support(y_test, y_pred)))\n",
    "print(\"ROC AUC: {}\".format(roc_auc_score(y_test, y_prob)))"
   ]
  },
  {
   "cell_type": "code",
   "execution_count": 7,
   "metadata": {},
   "outputs": [
    {
     "name": "stdout",
     "output_type": "stream",
     "text": [
      "Model accuracy: 0.6464924242424243\n",
      "Percentage of prdicted discharge: 0.4941515151515152\n",
      "Precision and Recall: (array([0.64378782, 0.64926105]), array([0.65265315, 0.64035685]), array([0.64819017, 0.64477821]), array([65865, 66135]))\n",
      "ROC AUC: 0.7077466111528898\n"
     ]
    }
   ],
   "source": [
    "model = LogisticRegression(C=0.1)\n",
    "model.fit(X_train, y_train)\n",
    "y_pred = model.predict(X_test)\n",
    "y_prob = model.predict_proba(X_test)[:, 1]\n",
    "print(\"Model accuracy: {}\".format(model.score(X_test, y_test)))\n",
    "print(\"Percentage of prdicted discharge: {}\".format(y_pred.sum()/len(y_pred)))\n",
    "print(\"Precision and Recall: {}\".format(precision_recall_fscore_support(y_test, y_pred)))\n",
    "print(\"ROC AUC: {}\".format(roc_auc_score(y_test, y_prob)))"
   ]
  },
  {
   "cell_type": "code",
   "execution_count": 8,
   "metadata": {},
   "outputs": [
    {
     "name": "stdout",
     "output_type": "stream",
     "text": [
      "Model accuracy: 0.6676515151515151\n",
      "Percentage of prdicted discharge: 0.47521969696969696\n",
      "Precision and Recall: (array([0.65876052, 0.67746975]), array([0.69282624, 0.64257957]), array([0.67536408, 0.65956357]), array([65865, 66135]))\n",
      "ROC AUC: 0.7289655349855085\n"
     ]
    }
   ],
   "source": [
    "model = RandomForestClassifier()\n",
    "model.fit(X_train, y_train)\n",
    "y_pred = model.predict(X_test)\n",
    "y_prob = model.predict_proba(X_test)[:, 1]\n",
    "print(\"Model accuracy: {}\".format(model.score(X_test, y_test)))\n",
    "print(\"Percentage of prdicted discharge: {}\".format(y_pred.sum()/len(y_pred)))\n",
    "print(\"Precision and Recall: {}\".format(precision_recall_fscore_support(y_test, y_pred)))\n",
    "print(\"ROC AUC: {}\".format(roc_auc_score(y_test, y_prob)))"
   ]
  },
  {
   "cell_type": "code",
   "execution_count": 10,
   "metadata": {},
   "outputs": [
    {
     "name": "stdout",
     "output_type": "stream",
     "text": [
      "Model accuracy: 0.6514545454545455\n",
      "Percentage of prdicted discharge: 0.5490075757575757\n",
      "Precision and Recall: (array([0.66677865, 0.63886627]), array([0.60265695, 0.70005292]), array([0.63309834, 0.66806153]), array([65865, 66135]))\n",
      "ROC AUC: 0.7173340204115065\n"
     ]
    }
   ],
   "source": [
    "model = GradientBoostingClassifier()\n",
    "model.fit(X_train, y_train)\n",
    "y_pred = model.predict(X_test)\n",
    "y_prob = model.predict_proba(X_test)[:, 1]\n",
    "print(\"Model accuracy: {}\".format(model.score(X_test, y_test)))\n",
    "print(\"Percentage of prdicted discharge: {}\".format(y_pred.sum()/len(y_pred)))\n",
    "print(\"Precision and Recall: {}\".format(precision_recall_fscore_support(y_test, y_pred)))\n",
    "print(\"ROC AUC: {}\".format(roc_auc_score(y_test, y_prob)))"
   ]
  },
  {
   "cell_type": "code",
   "execution_count": 11,
   "metadata": {},
   "outputs": [
    {
     "data": {
      "image/png": "[encoded data removed]",
      "text/plain": [
       "<Figure size 432x288 with 1 Axes>"
      ]
     },
     "metadata": {},
     "output_type": "display_data"
    }
   ],
   "source": [
    "years = info.groupby(\"close_date\").count()\n",
    "years = np.array(sorted(years.index[years[\"judge\"] > 100]))\n",
    "years = years[years > 0]\n",
    "acc = []\n",
    "for year in years:\n",
    "    index = (info[\"close_date\"] == year)\n",
    "    x = X_test[index]\n",
    "    y = y_test[index]\n",
    "    acc.append(model.score(x, y))\n",
    "plt.plot(years, acc)\n",
    "plt.xlabel(\"Year\")\n",
    "plt.ylabel(\"Accuracy\")\n",
    "plt.savefig(\"year-vs-acc\")"
   ]
  },
  {
   "cell_type": "code",
   "execution_count": 16,
   "metadata": {},
   "outputs": [
    {
     "data": {
      "image/png": "[encoded data removed]",
      "text/plain": [
       "<Figure size 576x1080 with 1 Axes>"
      ]
     },
     "metadata": {},
     "output_type": "display_data"
    }
   ],
   "source": [
    "dists = info.groupby(\"dist\").count()\n",
    "dists = dists.index[dists[\"judge\"] > 100]\n",
    "acc = []\n",
    "for dist in dists:\n",
    "    index = (info[\"dist\"] == dist)\n",
    "    x = X_test[index]\n",
    "    y = y_test[index]\n",
    "    acc.append(model.score(x, y))\n",
    "dist_acc = pd.DataFrame(list(zip(dists, acc)), columns=[\"dist\", \"accuracy\"])\n",
    "dist_acc = dist_acc.sort_values(by=\"accuracy\")\n",
    "plt.figure(figsize=(8, 15))\n",
    "plt.barh(dist_acc[\"dist\"], dist_acc[\"accuracy\"])\n",
    "plt.ylabel(\"District\")\n",
    "#plt.xticks(rotation=90)\n",
    "plt.xlabel(\"Accuracy\")\n",
    "plt.savefig(\"district-vs-acc\")"
   ]
  },
  {
   "cell_type": "code",
   "execution_count": 9,
   "metadata": {},
   "outputs": [],
   "source": [
    "judges_count = info.groupby(\"judge_dist\").count()\n",
    "judges = judges_count.index\n",
    "acc = []\n",
    "for judge in judges:\n",
    "    index = (info[\"judge_dist\"] == judge)\n",
    "    x = X_test[index]\n",
    "    y = y_test[index]\n",
    "    acc.append(model.score(x, y))\n",
    "# plt.plot(acc)"
   ]
  },
  {
   "cell_type": "code",
   "execution_count": 10,
   "metadata": {},
   "outputs": [
    {
     "data": {
      "image/png": "[encoded data removed]",
      "text/plain": [
       "<Figure size 432x288 with 2 Axes>"
      ]
     },
     "metadata": {},
     "output_type": "display_data"
    }
   ],
   "source": [
    "grant_rate = []; num_decisions = []\n",
    "for judge in judges:\n",
    "    grant_rate.append(y_test[info[\"judge_dist\"] == judge].sum() / y_test[info[\"judge_dist\"] == judge].count())\n",
    "    num_decisions.append(y_test[info[\"judge_dist\"] == judge].count())\n",
    "plt.scatter(grant_rate, acc, c=np.array(num_decisions))\n",
    "plt.xlabel(\"Grant Rate\")\n",
    "plt.ylabel(\"Accuracy\")\n",
    "plt.colorbar()\n",
    "plt.savefig(\"grant-rate-vs-accuracy\")"
   ]
  },
  {
   "cell_type": "code",
   "execution_count": 17,
   "metadata": {},
   "outputs": [
    {
     "data": {
      "text/html": [
       "<div>\n",
       "<style scoped>\n",
       "    .dataframe tbody tr th:only-of-type {\n",
       "        vertical-align: middle;\n",
       "    }\n",
       "\n",
       "    .dataframe tbody tr th {\n",
       "        vertical-align: top;\n",
       "    }\n",
       "\n",
       "    .dataframe thead th {\n",
       "        text-align: right;\n",
       "    }\n",
       "</style>\n",
       "<table border=\"1\" class=\"dataframe\">\n",
       "  <thead>\n",
       "    <tr style=\"text-align: right;\">\n",
       "      <th></th>\n",
       "      <th>feature</th>\n",
       "      <th>importance</th>\n",
       "    </tr>\n",
       "  </thead>\n",
       "  <tbody>\n",
       "    <tr>\n",
       "      <th>455</th>\n",
       "      <td>population</td>\n",
       "      <td>0.120312</td>\n",
       "    </tr>\n",
       "    <tr>\n",
       "      <th>459</th>\n",
       "      <td>EST</td>\n",
       "      <td>0.116430</td>\n",
       "    </tr>\n",
       "    <tr>\n",
       "      <th>458</th>\n",
       "      <td>AP</td>\n",
       "      <td>0.108310</td>\n",
       "    </tr>\n",
       "    <tr>\n",
       "      <th>457</th>\n",
       "      <td>QP1</td>\n",
       "      <td>0.108291</td>\n",
       "    </tr>\n",
       "    <tr>\n",
       "      <th>456</th>\n",
       "      <td>EMP</td>\n",
       "      <td>0.107869</td>\n",
       "    </tr>\n",
       "    <tr>\n",
       "      <th>242</th>\n",
       "      <td>that</td>\n",
       "      <td>0.015759</td>\n",
       "    </tr>\n",
       "    <tr>\n",
       "      <th>265</th>\n",
       "      <td>is</td>\n",
       "      <td>0.013036</td>\n",
       "    </tr>\n",
       "    <tr>\n",
       "      <th>349</th>\n",
       "      <td>debtor</td>\n",
       "      <td>0.011735</td>\n",
       "    </tr>\n",
       "    <tr>\n",
       "      <th>352</th>\n",
       "      <td>an</td>\n",
       "      <td>0.011454</td>\n",
       "    </tr>\n",
       "    <tr>\n",
       "      <th>285</th>\n",
       "      <td>for</td>\n",
       "      <td>0.011428</td>\n",
       "    </tr>\n",
       "    <tr>\n",
       "      <th>382</th>\n",
       "      <td>was</td>\n",
       "      <td>0.011257</td>\n",
       "    </tr>\n",
       "    <tr>\n",
       "      <th>217</th>\n",
       "      <td>in</td>\n",
       "      <td>0.011096</td>\n",
       "    </tr>\n",
       "    <tr>\n",
       "      <th>316</th>\n",
       "      <td>by</td>\n",
       "      <td>0.010827</td>\n",
       "    </tr>\n",
       "    <tr>\n",
       "      <th>211</th>\n",
       "      <td>and</td>\n",
       "      <td>0.010418</td>\n",
       "    </tr>\n",
       "    <tr>\n",
       "      <th>329</th>\n",
       "      <td>court</td>\n",
       "      <td>0.010387</td>\n",
       "    </tr>\n",
       "    <tr>\n",
       "      <th>174</th>\n",
       "      <td>of</td>\n",
       "      <td>0.009929</td>\n",
       "    </tr>\n",
       "    <tr>\n",
       "      <th>288</th>\n",
       "      <td>on</td>\n",
       "      <td>0.009884</td>\n",
       "    </tr>\n",
       "    <tr>\n",
       "      <th>331</th>\n",
       "      <td>as</td>\n",
       "      <td>0.009419</td>\n",
       "    </tr>\n",
       "    <tr>\n",
       "      <th>140</th>\n",
       "      <td>the</td>\n",
       "      <td>0.009397</td>\n",
       "    </tr>\n",
       "    <tr>\n",
       "      <th>403</th>\n",
       "      <td>bankruptcy</td>\n",
       "      <td>0.009310</td>\n",
       "    </tr>\n",
       "    <tr>\n",
       "      <th>358</th>\n",
       "      <td>or</td>\n",
       "      <td>0.009017</td>\n",
       "    </tr>\n",
       "    <tr>\n",
       "      <th>383</th>\n",
       "      <td>be</td>\n",
       "      <td>0.009017</td>\n",
       "    </tr>\n",
       "    <tr>\n",
       "      <th>425</th>\n",
       "      <td>under</td>\n",
       "      <td>0.008517</td>\n",
       "    </tr>\n",
       "    <tr>\n",
       "      <th>399</th>\n",
       "      <td>it</td>\n",
       "      <td>0.007874</td>\n",
       "    </tr>\n",
       "    <tr>\n",
       "      <th>390</th>\n",
       "      <td>from</td>\n",
       "      <td>0.007427</td>\n",
       "    </tr>\n",
       "    <tr>\n",
       "      <th>191</th>\n",
       "      <td>to</td>\n",
       "      <td>0.007273</td>\n",
       "    </tr>\n",
       "    <tr>\n",
       "      <th>320</th>\n",
       "      <td>this</td>\n",
       "      <td>0.006725</td>\n",
       "    </tr>\n",
       "    <tr>\n",
       "      <th>212</th>\n",
       "      <td>sufferance</td>\n",
       "      <td>0.006346</td>\n",
       "    </tr>\n",
       "    <tr>\n",
       "      <th>356</th>\n",
       "      <td>not</td>\n",
       "      <td>0.005676</td>\n",
       "    </tr>\n",
       "    <tr>\n",
       "      <th>365</th>\n",
       "      <td>qualitative</td>\n",
       "      <td>0.005603</td>\n",
       "    </tr>\n",
       "    <tr>\n",
       "      <th>414</th>\n",
       "      <td>retailer</td>\n",
       "      <td>0.005389</td>\n",
       "    </tr>\n",
       "    <tr>\n",
       "      <th>106</th>\n",
       "      <td>prothonotary</td>\n",
       "      <td>0.005336</td>\n",
       "    </tr>\n",
       "    <tr>\n",
       "      <th>143</th>\n",
       "      <td>meridian</td>\n",
       "      <td>0.004706</td>\n",
       "    </tr>\n",
       "    <tr>\n",
       "      <th>396</th>\n",
       "      <td>montana</td>\n",
       "      <td>0.004636</td>\n",
       "    </tr>\n",
       "    <tr>\n",
       "      <th>379</th>\n",
       "      <td>berkowitz</td>\n",
       "      <td>0.004633</td>\n",
       "    </tr>\n",
       "  </tbody>\n",
       "</table>\n",
       "</div>"
      ],
      "text/plain": [
       "          feature  importance\n",
       "455    population    0.120312\n",
       "459           EST    0.116430\n",
       "458            AP    0.108310\n",
       "457           QP1    0.108291\n",
       "456           EMP    0.107869\n",
       "242          that    0.015759\n",
       "265            is    0.013036\n",
       "349        debtor    0.011735\n",
       "352            an    0.011454\n",
       "285           for    0.011428\n",
       "382           was    0.011257\n",
       "217            in    0.011096\n",
       "316            by    0.010827\n",
       "211           and    0.010418\n",
       "329         court    0.010387\n",
       "174            of    0.009929\n",
       "288            on    0.009884\n",
       "331            as    0.009419\n",
       "140           the    0.009397\n",
       "403    bankruptcy    0.009310\n",
       "358            or    0.009017\n",
       "383            be    0.009017\n",
       "425         under    0.008517\n",
       "399            it    0.007874\n",
       "390          from    0.007427\n",
       "191            to    0.007273\n",
       "320          this    0.006725\n",
       "212    sufferance    0.006346\n",
       "356           not    0.005676\n",
       "365   qualitative    0.005603\n",
       "414      retailer    0.005389\n",
       "106  prothonotary    0.005336\n",
       "143      meridian    0.004706\n",
       "396       montana    0.004636\n",
       "379     berkowitz    0.004633"
      ]
     },
     "execution_count": 17,
     "metadata": {},
     "output_type": "execute_result"
    }
   ],
   "source": [
    "ftr_importance = pd.DataFrame(list(zip(X_test.columns, model.feature_importances_)), columns=[\"feature\", \"importance\"])\n",
    "ftr_importance.sort_values(by=\"importance\", ascending=False).head(35)"
   ]
  },
  {
   "cell_type": "markdown",
   "metadata": {},
   "source": [
    "W/O resampling"
   ]
  },
  {
   "cell_type": "code",
   "execution_count": null,
   "metadata": {},
   "outputs": [],
   "source": [
    "data_model"
   ]
  },
  {
   "cell_type": "code",
   "execution_count": 154,
   "metadata": {},
   "outputs": [
    {
     "name": "stderr",
     "output_type": "stream",
     "text": [
      "/home/yn811/miniconda3/lib/python3.6/site-packages/ipykernel_launcher.py:11: SettingWithCopyWarning: \n",
      "A value is trying to be set on a copy of a slice from a DataFrame.\n",
      "Try using .loc[row_indexer,col_indexer] = value instead\n",
      "\n",
      "See the caveats in the documentation: http://pandas.pydata.org/pandas-docs/stable/indexing.html#indexing-view-versus-copy\n",
      "  # This is added back by InteractiveShellApp.init_path()\n"
     ]
    },
    {
     "name": "stdout",
     "output_type": "stream",
     "text": [
      "Model accuracy: 0.8518825757575758\n",
      "Percentage of prdicted discharge: 0.9500492424242424\n",
      "Precision and Recall: (array([0.47099416, 0.87190855]), array([0.16200636, 0.96908651]), array([0.24108685, 0.91793274]), array([ 38338, 225662]))\n",
      "ROC AUC: 0.7221753358359002\n"
     ]
    }
   ],
   "source": [
    "data_model = data.sample(n=800000)\n",
    "X = data_model.drop(\"disp\", axis=1)\n",
    "y = data_model[\"disp\"]\n",
    "X_train, X_test, y_train, y_test = train_test_split(X, y, test_size=0.33, random_state=42)\n",
    "X_train = X_train.reset_index().drop(\"index\", axis=1)\n",
    "X_train.drop([\"judge\", \"close_date\", \"dist\"], axis=1, inplace=True)\n",
    "y_train = y_train.reset_index()[\"disp\"]\n",
    "X_test = X_test.reset_index().drop(\"index\", axis=1)\n",
    "y_test = y_test.reset_index()[\"disp\"]\n",
    "info = X_test[[\"judge\", \"close_date\", \"dist\"]]\n",
    "info[\"judge_dist\"] = info[\"judge\"] + \" \" + info[\"dist\"]\n",
    "X_test.drop([\"judge\", \"close_date\", \"dist\"], axis=1, inplace=True)\n",
    "X_train, X_test = standardize(X_train, X_test)\n",
    "model = RandomForestClassifier()\n",
    "model.fit(X_train, y_train)\n",
    "y_pred = model.predict(X_test)\n",
    "y_prob = model.predict_proba(X_test)[:, 1]\n",
    "print(\"Model accuracy: {}\".format(model.score(X_test, y_test)))\n",
    "print(\"Percentage of prdicted discharge: {}\".format(y_pred.sum()/len(y_pred)))\n",
    "print(\"Precision and Recall: {}\".format(precision_recall_fscore_support(y_test, y_pred)))\n",
    "print(\"ROC AUC: {}\".format(roc_auc_score(y_test, y_prob)))"
   ]
  },
  {
   "cell_type": "code",
   "execution_count": 13,
   "metadata": {},
   "outputs": [],
   "source": [
    "avg_time = pd.read_csv(\"case_avg_time.csv\", index_col=0)\n",
    "avg_time[\"judge_dist\"] = avg_time[\"judge\"] + \" \" + avg_time[\"district\"]"
   ]
  },
  {
   "cell_type": "code",
   "execution_count": 28,
   "metadata": {},
   "outputs": [],
   "source": [
    "judge_time = dict(zip(avg_time[\"judge_dist\"].apply(lambda x: x.lower()), avg_time[\"mean_time\"]))"
   ]
  },
  {
   "cell_type": "code",
   "execution_count": 29,
   "metadata": {},
   "outputs": [],
   "source": [
    "decision_time = []\n",
    "for judge in judges:\n",
    "    try:\n",
    "        decision_time.append(judge_time[judge])\n",
    "    except:\n",
    "        continue"
   ]
  },
  {
   "cell_type": "code",
   "execution_count": 41,
   "metadata": {},
   "outputs": [
    {
     "data": {
      "image/png": "[encoded data removed]",
      "text/plain": [
       "<Figure size 432x288 with 1 Axes>"
      ]
     },
     "metadata": {},
     "output_type": "display_data"
    }
   ],
   "source": [
    "plt.scatter(decision_time, grant_rate)\n",
    "plt.xlabel(\"Decision Time (days)\")\n",
    "plt.ylabel(\"Grant Rate\")\n",
    "plt.savefig(\"time-vs-grant-rate\")"
   ]
  },
  {
   "cell_type": "code",
   "execution_count": 42,
   "metadata": {},
   "outputs": [
    {
     "data": {
      "image/png": "[encoded data removed]",
      "text/plain": [
       "<Figure size 432x288 with 1 Axes>"
      ]
     },
     "metadata": {},
     "output_type": "display_data"
    }
   ],
   "source": [
    "plt.scatter(decision_time, acc)\n",
    "plt.xlabel(\"Decision Time (days)\")\n",
    "plt.ylabel(\"Accuracy\")\n",
    "plt.savefig(\"time-vs-acc\")"
   ]
  },
  {
   "cell_type": "code",
   "execution_count": null,
   "metadata": {},
   "outputs": [],
   "source": []
  }
 ],
 "metadata": {
  "kernelspec": {
   "display_name": "Python 3",
   "language": "python",
   "name": "python3"
  },
  "language_info": {
   "codemirror_mode": {
    "name": "ipython",
    "version": 3
   },
   "file_extension": ".py",
   "mimetype": "text/x-python",
   "name": "python",
   "nbconvert_exporter": "python",
   "pygments_lexer": "ipython3",
   "version": "3.6.5"
  }
 },
 "nbformat": 4,
 "nbformat_minor": 2
}
