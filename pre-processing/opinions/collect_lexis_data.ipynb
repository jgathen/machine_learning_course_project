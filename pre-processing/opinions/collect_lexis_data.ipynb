{
 "cells": [
  {
   "cell_type": "code",
   "execution_count": 2,
   "metadata": {},
   "outputs": [],
   "source": [
    "import xml.etree.ElementTree as ET\n",
    "import pandas as pd\n",
    "import numpy as np\n",
    "import os"
   ]
  },
  {
   "cell_type": "code",
   "execution_count": 3,
   "metadata": {},
   "outputs": [],
   "source": [
    "list_of_file = os.listdir(\"xml_data/6407/\")"
   ]
  },
  {
   "cell_type": "code",
   "execution_count": 4,
   "metadata": {},
   "outputs": [],
   "source": [
    "def get_judge(file_path):\n",
    "    with open(\"xml_data/6407/\"+file_path, \"r\") as f:\n",
    "        lines = f.readlines()\n",
    "    xml=[]\n",
    "    for i in lines:\n",
    "        if len(i) > 120:\n",
    "            xml += [i]\n",
    "#     print(\"number of xml: \", len(xml))\n",
    "    court_names = []\n",
    "    judge_el = []\n",
    "    xml_path = []\n",
    "    xml_id = []\n",
    "    opinions = []\n",
    "    for i in range(len(xml)):\n",
    "        root = ET.fromstring(xml[i])\n",
    "        opinion_el=\"\"\n",
    "        ifJudge = False\n",
    "        for elem in root.iter(tag = 'judges'):\n",
    "            judge_el += [elem.text]\n",
    "            xml_path += [file_path]\n",
    "            xml_id += [i]\n",
    "            ifJudge = True\n",
    "        if ifJudge:\n",
    "            for elem in root.iter(tag = 'courtName'):\n",
    "                court_names += [elem.text]\n",
    "        if ifJudge:\n",
    "            for elem in root.iter(tag = 'anchor'):\n",
    "                try:\n",
    "                    opinion_el+= elem.tail + \" \"\n",
    "                except:\n",
    "                    continue\n",
    "        if opinion_el != \"\":\n",
    "            opinions += [opinion_el]\n",
    "    \n",
    "#     print(\"number of good xml: \", len(xml_path))\n",
    "    return(xml_path, xml_id, court_names, judge_el, opinions)"
   ]
  },
  {
   "cell_type": "code",
   "execution_count": 5,
   "metadata": {},
   "outputs": [],
   "source": [
    "xml_paths = []; xml_ids = []; court_names = []; judges = []; opinions = []\n",
    "for file_ in list_of_file:\n",
    "    try:\n",
    "        xml_path, xml_id, court_name, judge, opinion = get_judge(file_)\n",
    "        if not ((len(xml_path) == len(judge)) & (len(judge) == len(opinion))):\n",
    "            print(len(path), len(judge), len(opinion))\n",
    "        else:\n",
    "            xml_paths += xml_path\n",
    "            xml_ids += xml_id\n",
    "            court_names += court_name\n",
    "            judges += judge\n",
    "            opinions += opinion\n",
    "            \n",
    "    except:\n",
    "        continue"
   ]
  },
  {
   "cell_type": "code",
   "execution_count": 6,
   "metadata": {},
   "outputs": [
    {
     "name": "stdout",
     "output_type": "stream",
     "text": [
      "23385 23385 23385 23385 23385\n"
     ]
    }
   ],
   "source": [
    "print(len(xml_paths), len(xml_ids), len(court_names), len(judges), len(opinions))"
   ]
  },
  {
   "cell_type": "code",
   "execution_count": 7,
   "metadata": {},
   "outputs": [],
   "source": [
    "data = [[a,b,c,d,e] for a,b,c,d,e in zip(xml_paths, xml_ids, court_names, judges, opinions)]\n",
    "df = pd.DataFrame(data, columns=[\"file_name\", \"infile_ID\", \"court_name\", \"judge\", \"opinion\"])"
   ]
  },
  {
   "cell_type": "code",
   "execution_count": 8,
   "metadata": {},
   "outputs": [],
   "source": [
    "def clean_judges(judge):\n",
    "    import re\n",
    "    judge_el = judge\n",
    "    if isinstance(judge_el, str):\n",
    "        judge_el = judge_el.lower().strip(\", .\")\n",
    "        if judge_el in [\"before\", \"hon\", \"the honorable\", \"honorable\", \"\", \"hon.\"]:\n",
    "            return None\n",
    "        for x in [\"^the \", \"bankruptcy\", \"bankrupcy\", \"barkruptcy\", \"bankruptct\", \"judges\", \"judge\", \"district\", \"chief\", \"united\", \n",
    "                  \"unite\", \"stated\",\"states\", \"statet\", \n",
    "                  \"state\", \"u.s\", \"hon\\.\", \"^hon \", \"honorable\", \"court\", \"of\", \"kansas\"]:\n",
    "            judge_el = re.sub(x, \"\", judge_el).strip(\", .\")\n",
    "        judge_el = judge_el.replace(\",  ,\", \",\")\n",
    "        judge_el = judge_el.replace(\".\", \"\")\n",
    "        if judge_el == \"\":\n",
    "            judge_el = None\n",
    "    else:\n",
    "        return None\n",
    "    return judge_el"
   ]
  },
  {
   "cell_type": "code",
   "execution_count": 10,
   "metadata": {},
   "outputs": [],
   "source": [
    "df[\"clean_judge\"] = df[\"judge\"].apply(clean_judges)\n",
    "df[\"notClear\"] = df[\"clean_judge\"].apply(lambda x: (\"before\" in x)*1 if isinstance(x, str) else 0)\n",
    "df[\"ifNone\"] = df[\"clean_judge\"].apply(lambda x: (x is None)*1)\n",
    "df[\"ifOne\"] = df[\"clean_judge\"].apply(lambda x: 1*((\" and \" not in x) and (\"before\" not in x)) if isinstance(x, str) else 0)"
   ]
  },
  {
   "cell_type": "code",
   "execution_count": 14,
   "metadata": {},
   "outputs": [],
   "source": [
    "df.to_csv(\"file_summary.csv\")"
   ]
  },
  {
   "cell_type": "code",
   "execution_count": 379,
   "metadata": {},
   "outputs": [
    {
     "data": {
      "text/html": [
       "<div>\n",
       "<style>\n",
       "    .dataframe thead tr:only-child th {\n",
       "        text-align: right;\n",
       "    }\n",
       "\n",
       "    .dataframe thead th {\n",
       "        text-align: left;\n",
       "    }\n",
       "\n",
       "    .dataframe tbody tr th {\n",
       "        vertical-align: top;\n",
       "    }\n",
       "</style>\n",
       "<table border=\"1\" class=\"dataframe\">\n",
       "  <thead>\n",
       "    <tr style=\"text-align: right;\">\n",
       "      <th></th>\n",
       "      <th>judges</th>\n",
       "      <th>ifOne</th>\n",
       "      <th>ifNone</th>\n",
       "      <th>notClear</th>\n",
       "    </tr>\n",
       "    <tr>\n",
       "      <th>clean_judges</th>\n",
       "      <th></th>\n",
       "      <th></th>\n",
       "      <th></th>\n",
       "      <th></th>\n",
       "    </tr>\n",
       "  </thead>\n",
       "  <tbody>\n",
       "    <tr>\n",
       "      <th>janice d loyd</th>\n",
       "      <td>160</td>\n",
       "      <td>160</td>\n",
       "      <td>160</td>\n",
       "      <td>160</td>\n",
       "    </tr>\n",
       "    <tr>\n",
       "      <th>david t thuma</th>\n",
       "      <td>113</td>\n",
       "      <td>113</td>\n",
       "      <td>113</td>\n",
       "      <td>113</td>\n",
       "    </tr>\n",
       "    <tr>\n",
       "      <th>robert e nugent</th>\n",
       "      <td>112</td>\n",
       "      <td>112</td>\n",
       "      <td>112</td>\n",
       "      <td>112</td>\n",
       "    </tr>\n",
       "    <tr>\n",
       "      <th>william t thurman</th>\n",
       "      <td>77</td>\n",
       "      <td>77</td>\n",
       "      <td>77</td>\n",
       "      <td>77</td>\n",
       "    </tr>\n",
       "    <tr>\n",
       "      <th>dale l somers</th>\n",
       "      <td>71</td>\n",
       "      <td>71</td>\n",
       "      <td>71</td>\n",
       "      <td>71</td>\n",
       "    </tr>\n",
       "  </tbody>\n",
       "</table>\n",
       "</div>"
      ],
      "text/plain": [
       "                   judges  ifOne  ifNone  notClear\n",
       "clean_judges                                      \n",
       "janice d loyd         160    160     160       160\n",
       "david t thuma         113    113     113       113\n",
       "robert e nugent       112    112     112       112\n",
       "william t thurman      77     77      77        77\n",
       "dale l somers          71     71      71        71"
      ]
     },
     "execution_count": 379,
     "metadata": {},
     "output_type": "execute_result"
    }
   ],
   "source": [
    "df[df[\"ifOne\"] == 1].groupby(\"clean_judges\").count().sort_values(by=\"judges\", ascending=False).head()"
   ]
  }
 ],
 "metadata": {
  "kernelspec": {
   "display_name": "Python 3",
   "language": "python",
   "name": "python3"
  },
  "language_info": {
   "codemirror_mode": {
    "name": "ipython",
    "version": 3
   },
   "file_extension": ".py",
   "mimetype": "text/x-python",
   "name": "python",
   "nbconvert_exporter": "python",
   "pygments_lexer": "ipython3",
   "version": "3.6.4"
  }
 },
 "nbformat": 4,
 "nbformat_minor": 2
}
