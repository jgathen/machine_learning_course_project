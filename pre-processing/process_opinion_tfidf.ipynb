{
 "cells": [
  {
   "cell_type": "code",
   "execution_count": 2,
   "metadata": {},
   "outputs": [],
   "source": [
    "import pandas as pd\n",
    "import numpy as np\n",
    "import re"
   ]
  },
  {
   "cell_type": "markdown",
   "metadata": {},
   "source": [
    "### Dataset 1:'all_opinion.csv'---df\n",
    "load the opinion files transformed from opinion_6398, ..., opinion_6409, and combine them together as 'all_opinion.csv'\n",
    "- 846 unique last_name\n",
    "- 1446 unique full_name\n",
    "- 165 unique district\n",
    "- 107038 rows"
   ]
  },
  {
   "cell_type": "code",
   "execution_count": 52,
   "metadata": {},
   "outputs": [],
   "source": [
    "#df = pd.read_csv('opinion_6398.csv',index_col=0 )\n",
    "#for i in range(6399,6410):\n",
    "#    data = pd.read_csv('opinion_'+str(i)+'.csv',index_col=0)\n",
    "#    df = pd.concat([df, data])\n",
    "#df.district.apply(lambda x: x.replace(\"'\",\"\").replace(\"{\",\"\").replace(\"}\",\"\").replace(\",\",\"\").lower()).unique()\n",
    "#df.to_csv('all_opinion.csv')"
   ]
  },
  {
   "cell_type": "code",
   "execution_count": 304,
   "metadata": {},
   "outputs": [],
   "source": [
    "df = pd.read_csv('all_opinion.csv',index_col=0)"
   ]
  },
  {
   "cell_type": "code",
   "execution_count": 305,
   "metadata": {},
   "outputs": [
    {
     "data": {
      "text/html": [
       "<div>\n",
       "<style scoped>\n",
       "    .dataframe tbody tr th:only-of-type {\n",
       "        vertical-align: middle;\n",
       "    }\n",
       "\n",
       "    .dataframe tbody tr th {\n",
       "        vertical-align: top;\n",
       "    }\n",
       "\n",
       "    .dataframe thead th {\n",
       "        text-align: right;\n",
       "    }\n",
       "</style>\n",
       "<table border=\"1\" class=\"dataframe\">\n",
       "  <thead>\n",
       "    <tr style=\"text-align: right;\">\n",
       "      <th></th>\n",
       "      <th>district</th>\n",
       "      <th>from</th>\n",
       "      <th>full_name</th>\n",
       "      <th>judge</th>\n",
       "      <th>opinion</th>\n",
       "    </tr>\n",
       "  </thead>\n",
       "  <tbody>\n",
       "    <tr>\n",
       "      <th>0</th>\n",
       "      <td>['western', 'new', 'york']</td>\n",
       "      <td>6398</td>\n",
       "      <td>carl l bucki</td>\n",
       "      <td>bucki</td>\n",
       "      <td>Bucki, Chief U.S.B.J., W.D.N.Y. The Chapter 7 ...</td>\n",
       "    </tr>\n",
       "    <tr>\n",
       "      <th>4</th>\n",
       "      <td>['eastern', 'new', 'york']</td>\n",
       "      <td>6398</td>\n",
       "      <td>elizabeth s stong</td>\n",
       "      <td>stong</td>\n",
       "      <td>It appearing that the debtor(s) is entitled to...</td>\n",
       "    </tr>\n",
       "    <tr>\n",
       "      <th>15</th>\n",
       "      <td>['eastern', 'new', 'york']</td>\n",
       "      <td>6398</td>\n",
       "      <td>nancy hershey lord</td>\n",
       "      <td>lord</td>\n",
       "      <td>HONORABLE NANCY HERSHEY LORD UNITED STATES BAN...</td>\n",
       "    </tr>\n",
       "    <tr>\n",
       "      <th>16</th>\n",
       "      <td>['southern', 'new', 'york']</td>\n",
       "      <td>6398</td>\n",
       "      <td>martin glenn</td>\n",
       "      <td>glenn</td>\n",
       "      <td>Pending before the Court is the  In response t...</td>\n",
       "    </tr>\n",
       "    <tr>\n",
       "      <th>18</th>\n",
       "      <td>['connecticut']</td>\n",
       "      <td>6398</td>\n",
       "      <td>albert s dabrowski</td>\n",
       "      <td>dabrowski</td>\n",
       "      <td>After notice and a hearing held July 24, 2014 ...</td>\n",
       "    </tr>\n",
       "  </tbody>\n",
       "</table>\n",
       "</div>"
      ],
      "text/plain": [
       "                       district  from           full_name      judge  \\\n",
       "0    ['western', 'new', 'york']  6398        carl l bucki      bucki   \n",
       "4    ['eastern', 'new', 'york']  6398   elizabeth s stong      stong   \n",
       "15   ['eastern', 'new', 'york']  6398  nancy hershey lord       lord   \n",
       "16  ['southern', 'new', 'york']  6398        martin glenn      glenn   \n",
       "18              ['connecticut']  6398  albert s dabrowski  dabrowski   \n",
       "\n",
       "                                              opinion  \n",
       "0   Bucki, Chief U.S.B.J., W.D.N.Y. The Chapter 7 ...  \n",
       "4   It appearing that the debtor(s) is entitled to...  \n",
       "15  HONORABLE NANCY HERSHEY LORD UNITED STATES BAN...  \n",
       "16  Pending before the Court is the  In response t...  \n",
       "18  After notice and a hearing held July 24, 2014 ...  "
      ]
     },
     "execution_count": 305,
     "metadata": {},
     "output_type": "execute_result"
    }
   ],
   "source": [
    "df.head()"
   ]
  },
  {
   "cell_type": "markdown",
   "metadata": {},
   "source": [
    "count for the unique values groupby 'judge'"
   ]
  },
  {
   "cell_type": "code",
   "execution_count": 310,
   "metadata": {},
   "outputs": [
    {
     "data": {
      "text/html": [
       "<div>\n",
       "<style scoped>\n",
       "    .dataframe tbody tr th:only-of-type {\n",
       "        vertical-align: middle;\n",
       "    }\n",
       "\n",
       "    .dataframe tbody tr th {\n",
       "        vertical-align: top;\n",
       "    }\n",
       "\n",
       "    .dataframe thead th {\n",
       "        text-align: right;\n",
       "    }\n",
       "</style>\n",
       "<table border=\"1\" class=\"dataframe\">\n",
       "  <thead>\n",
       "    <tr style=\"text-align: right;\">\n",
       "      <th></th>\n",
       "      <th>district</th>\n",
       "      <th>from</th>\n",
       "      <th>full_name</th>\n",
       "      <th>judge</th>\n",
       "      <th>opinion</th>\n",
       "    </tr>\n",
       "    <tr>\n",
       "      <th>judge</th>\n",
       "      <th></th>\n",
       "      <th></th>\n",
       "      <th></th>\n",
       "      <th></th>\n",
       "      <th></th>\n",
       "    </tr>\n",
       "  </thead>\n",
       "  <tbody>\n",
       "    <tr>\n",
       "      <th>abel</th>\n",
       "      <td>1</td>\n",
       "      <td>1</td>\n",
       "      <td>2</td>\n",
       "      <td>1</td>\n",
       "      <td>9</td>\n",
       "    </tr>\n",
       "    <tr>\n",
       "      <th>abram</th>\n",
       "      <td>1</td>\n",
       "      <td>2</td>\n",
       "      <td>4</td>\n",
       "      <td>1</td>\n",
       "      <td>9</td>\n",
       "    </tr>\n",
       "    <tr>\n",
       "      <th>abramson</th>\n",
       "      <td>1</td>\n",
       "      <td>1</td>\n",
       "      <td>3</td>\n",
       "      <td>1</td>\n",
       "      <td>17</td>\n",
       "    </tr>\n",
       "    <tr>\n",
       "      <th>adams</th>\n",
       "      <td>1</td>\n",
       "      <td>1</td>\n",
       "      <td>2</td>\n",
       "      <td>1</td>\n",
       "      <td>38</td>\n",
       "    </tr>\n",
       "    <tr>\n",
       "      <th>adler</th>\n",
       "      <td>1</td>\n",
       "      <td>1</td>\n",
       "      <td>3</td>\n",
       "      <td>1</td>\n",
       "      <td>29</td>\n",
       "    </tr>\n",
       "  </tbody>\n",
       "</table>\n",
       "</div>"
      ],
      "text/plain": [
       "          district  from  full_name  judge  opinion\n",
       "judge                                              \n",
       "abel             1     1          2      1        9\n",
       "abram            1     2          4      1        9\n",
       "abramson         1     1          3      1       17\n",
       "adams            1     1          2      1       38\n",
       "adler            1     1          3      1       29"
      ]
     },
     "execution_count": 310,
     "metadata": {},
     "output_type": "execute_result"
    }
   ],
   "source": [
    "df_judge_unique = df.groupby('judge').nunique()\n",
    "df_judge_unique[df_judge_unique.full_name > 1].head()"
   ]
  },
  {
   "cell_type": "code",
   "execution_count": 121,
   "metadata": {},
   "outputs": [
    {
     "data": {
      "text/plain": [
       "(368, 478, 846)"
      ]
     },
     "execution_count": 121,
     "metadata": {},
     "output_type": "execute_result"
    }
   ],
   "source": [
    "len(df_judge_unique[df_judge_unique.full_name>1]), len(df_judge_unique[df_judge_unique.full_name==1]),len(df_judge_unique)"
   ]
  },
  {
   "cell_type": "code",
   "execution_count": 124,
   "metadata": {},
   "outputs": [
    {
     "data": {
      "image/png": "[encoded data removed]",
      "text/plain": [
       "<matplotlib.figure.Figure at 0x11370ca20>"
      ]
     },
     "metadata": {},
     "output_type": "display_data"
    }
   ],
   "source": [
    "import matplotlib.pyplot as plt\n",
    "import seaborn as sns\n",
    "sns.set(color_codes=True)\n",
    "sns.distplot(df_judge_unique.full_name)\n",
    "#plt.xlim(xmin = 0, xmax = 0.0002)\n",
    "plt.show()"
   ]
  },
  {
   "cell_type": "markdown",
   "metadata": {},
   "source": [
    "the amount of different full name with the same last name"
   ]
  },
  {
   "cell_type": "code",
   "execution_count": 139,
   "metadata": {},
   "outputs": [
    {
     "data": {
      "text/plain": [
       "full_name\n",
       "1     478\n",
       "2     234\n",
       "3      81\n",
       "4      27\n",
       "5      15\n",
       "6       8\n",
       "8       1\n",
       "9       1\n",
       "11      1\n",
       "dtype: int64"
      ]
     },
     "execution_count": 139,
     "metadata": {},
     "output_type": "execute_result"
    }
   ],
   "source": [
    "df_judge_unique.groupby('full_name').size()"
   ]
  },
  {
   "cell_type": "code",
   "execution_count": 144,
   "metadata": {},
   "outputs": [
    {
     "data": {
      "text/html": [
       "<div>\n",
       "<style scoped>\n",
       "    .dataframe tbody tr th:only-of-type {\n",
       "        vertical-align: middle;\n",
       "    }\n",
       "\n",
       "    .dataframe tbody tr th {\n",
       "        vertical-align: top;\n",
       "    }\n",
       "\n",
       "    .dataframe thead th {\n",
       "        text-align: right;\n",
       "    }\n",
       "</style>\n",
       "<table border=\"1\" class=\"dataframe\">\n",
       "  <thead>\n",
       "    <tr style=\"text-align: right;\">\n",
       "      <th></th>\n",
       "      <th>district</th>\n",
       "      <th>from</th>\n",
       "      <th>full_name</th>\n",
       "      <th>judge</th>\n",
       "      <th>opinion</th>\n",
       "    </tr>\n",
       "    <tr>\n",
       "      <th>judge</th>\n",
       "      <th></th>\n",
       "      <th></th>\n",
       "      <th></th>\n",
       "      <th></th>\n",
       "      <th></th>\n",
       "    </tr>\n",
       "  </thead>\n",
       "  <tbody>\n",
       "    <tr>\n",
       "      <th>brown</th>\n",
       "      <td>11</td>\n",
       "      <td>6</td>\n",
       "      <td>11</td>\n",
       "      <td>1</td>\n",
       "      <td>628</td>\n",
       "    </tr>\n",
       "    <tr>\n",
       "      <th>clark</th>\n",
       "      <td>6</td>\n",
       "      <td>3</td>\n",
       "      <td>8</td>\n",
       "      <td>1</td>\n",
       "      <td>231</td>\n",
       "    </tr>\n",
       "    <tr>\n",
       "      <th>davis</th>\n",
       "      <td>4</td>\n",
       "      <td>5</td>\n",
       "      <td>6</td>\n",
       "      <td>1</td>\n",
       "      <td>99</td>\n",
       "    </tr>\n",
       "    <tr>\n",
       "      <th>hon</th>\n",
       "      <td>9</td>\n",
       "      <td>7</td>\n",
       "      <td>6</td>\n",
       "      <td>1</td>\n",
       "      <td>43</td>\n",
       "    </tr>\n",
       "    <tr>\n",
       "      <th>howard</th>\n",
       "      <td>2</td>\n",
       "      <td>1</td>\n",
       "      <td>6</td>\n",
       "      <td>1</td>\n",
       "      <td>581</td>\n",
       "    </tr>\n",
       "    <tr>\n",
       "      <th>jones</th>\n",
       "      <td>5</td>\n",
       "      <td>3</td>\n",
       "      <td>6</td>\n",
       "      <td>1</td>\n",
       "      <td>214</td>\n",
       "    </tr>\n",
       "    <tr>\n",
       "      <th>mahoney</th>\n",
       "      <td>7</td>\n",
       "      <td>5</td>\n",
       "      <td>6</td>\n",
       "      <td>1</td>\n",
       "      <td>277</td>\n",
       "    </tr>\n",
       "    <tr>\n",
       "      <th>robinson</th>\n",
       "      <td>5</td>\n",
       "      <td>4</td>\n",
       "      <td>6</td>\n",
       "      <td>1</td>\n",
       "      <td>70</td>\n",
       "    </tr>\n",
       "    <tr>\n",
       "      <th>shiff</th>\n",
       "      <td>5</td>\n",
       "      <td>3</td>\n",
       "      <td>6</td>\n",
       "      <td>1</td>\n",
       "      <td>547</td>\n",
       "    </tr>\n",
       "    <tr>\n",
       "      <th>walker</th>\n",
       "      <td>4</td>\n",
       "      <td>2</td>\n",
       "      <td>6</td>\n",
       "      <td>1</td>\n",
       "      <td>48</td>\n",
       "    </tr>\n",
       "    <tr>\n",
       "      <th>williams</th>\n",
       "      <td>6</td>\n",
       "      <td>4</td>\n",
       "      <td>9</td>\n",
       "      <td>1</td>\n",
       "      <td>242</td>\n",
       "    </tr>\n",
       "  </tbody>\n",
       "</table>\n",
       "</div>"
      ],
      "text/plain": [
       "          district  from  full_name  judge  opinion\n",
       "judge                                              \n",
       "brown           11     6         11      1      628\n",
       "clark            6     3          8      1      231\n",
       "davis            4     5          6      1       99\n",
       "hon              9     7          6      1       43\n",
       "howard           2     1          6      1      581\n",
       "jones            5     3          6      1      214\n",
       "mahoney          7     5          6      1      277\n",
       "robinson         5     4          6      1       70\n",
       "shiff            5     3          6      1      547\n",
       "walker           4     2          6      1       48\n",
       "williams         6     4          9      1      242"
      ]
     },
     "execution_count": 144,
     "metadata": {},
     "output_type": "execute_result"
    }
   ],
   "source": [
    "df_judge_unique[df_judge_unique.full_name.isin([6,8,9,11])]"
   ]
  },
  {
   "cell_type": "markdown",
   "metadata": {},
   "source": [
    "## Dataset 2:  'all_opinion_abbr.csv'---df_abbr\n",
    "load the opinion data with abbr for district and generate 'judge-district' pair. \n",
    "- 1131 unique judge-district pair"
   ]
  },
  {
   "cell_type": "code",
   "execution_count": 164,
   "metadata": {},
   "outputs": [],
   "source": [
    "df_abbr = pd.read_csv('all_opinion_abbr.csv',index_col=0) #1131 unique judge-district pair"
   ]
  },
  {
   "cell_type": "code",
   "execution_count": 184,
   "metadata": {},
   "outputs": [
    {
     "data": {
      "text/html": [
       "<div>\n",
       "<style scoped>\n",
       "    .dataframe tbody tr th:only-of-type {\n",
       "        vertical-align: middle;\n",
       "    }\n",
       "\n",
       "    .dataframe tbody tr th {\n",
       "        vertical-align: top;\n",
       "    }\n",
       "\n",
       "    .dataframe thead th {\n",
       "        text-align: right;\n",
       "    }\n",
       "</style>\n",
       "<table border=\"1\" class=\"dataframe\">\n",
       "  <thead>\n",
       "    <tr style=\"text-align: right;\">\n",
       "      <th></th>\n",
       "      <th>district</th>\n",
       "      <th>from</th>\n",
       "      <th>full_name</th>\n",
       "      <th>judge</th>\n",
       "      <th>opinion</th>\n",
       "      <th>abbr</th>\n",
       "      <th>judge_dist</th>\n",
       "    </tr>\n",
       "  </thead>\n",
       "  <tbody>\n",
       "    <tr>\n",
       "      <th>0</th>\n",
       "      <td>['western', 'new', 'york']</td>\n",
       "      <td>6398</td>\n",
       "      <td>carl l bucki</td>\n",
       "      <td>bucki</td>\n",
       "      <td>Bucki, Chief U.S.B.J., W.D.N.Y. The Chapter 7 ...</td>\n",
       "      <td>nywb</td>\n",
       "      <td>bucki nywb</td>\n",
       "    </tr>\n",
       "    <tr>\n",
       "      <th>1</th>\n",
       "      <td>['eastern', 'new', 'york']</td>\n",
       "      <td>6398</td>\n",
       "      <td>elizabeth s stong</td>\n",
       "      <td>stong</td>\n",
       "      <td>It appearing that the debtor(s) is entitled to...</td>\n",
       "      <td>nyeb</td>\n",
       "      <td>stong nyeb</td>\n",
       "    </tr>\n",
       "    <tr>\n",
       "      <th>2</th>\n",
       "      <td>['eastern', 'new', 'york']</td>\n",
       "      <td>6398</td>\n",
       "      <td>nancy hershey lord</td>\n",
       "      <td>lord</td>\n",
       "      <td>HONORABLE NANCY HERSHEY LORD UNITED STATES BAN...</td>\n",
       "      <td>nyeb</td>\n",
       "      <td>lord nyeb</td>\n",
       "    </tr>\n",
       "    <tr>\n",
       "      <th>3</th>\n",
       "      <td>['southern', 'new', 'york']</td>\n",
       "      <td>6398</td>\n",
       "      <td>martin glenn</td>\n",
       "      <td>glenn</td>\n",
       "      <td>Pending before the Court is the  In response t...</td>\n",
       "      <td>nysb</td>\n",
       "      <td>glenn nysb</td>\n",
       "    </tr>\n",
       "    <tr>\n",
       "      <th>4</th>\n",
       "      <td>['connecticut']</td>\n",
       "      <td>6398</td>\n",
       "      <td>albert s dabrowski</td>\n",
       "      <td>dabrowski</td>\n",
       "      <td>After notice and a hearing held July 24, 2014 ...</td>\n",
       "      <td>ctb</td>\n",
       "      <td>dabrowski ctb</td>\n",
       "    </tr>\n",
       "  </tbody>\n",
       "</table>\n",
       "</div>"
      ],
      "text/plain": [
       "                      district  from           full_name      judge  \\\n",
       "0   ['western', 'new', 'york']  6398        carl l bucki      bucki   \n",
       "1   ['eastern', 'new', 'york']  6398   elizabeth s stong      stong   \n",
       "2   ['eastern', 'new', 'york']  6398  nancy hershey lord       lord   \n",
       "3  ['southern', 'new', 'york']  6398        martin glenn      glenn   \n",
       "4              ['connecticut']  6398  albert s dabrowski  dabrowski   \n",
       "\n",
       "                                             opinion  abbr     judge_dist  \n",
       "0  Bucki, Chief U.S.B.J., W.D.N.Y. The Chapter 7 ...  nywb     bucki nywb  \n",
       "1  It appearing that the debtor(s) is entitled to...  nyeb     stong nyeb  \n",
       "2  HONORABLE NANCY HERSHEY LORD UNITED STATES BAN...  nyeb      lord nyeb  \n",
       "3  Pending before the Court is the  In response t...  nysb     glenn nysb  \n",
       "4  After notice and a hearing held July 24, 2014 ...   ctb  dabrowski ctb  "
      ]
     },
     "execution_count": 184,
     "metadata": {},
     "output_type": "execute_result"
    }
   ],
   "source": [
    "#df_abbr['judge_dist'] = df_abbr.judge+' '+df_abbr.abbr\n",
    "#df_abbr = df_abbr.drop('Unnamed: 0.1', axis=1)\n",
    "df_abbr.head()\n",
    "#df_abbr.judge_dist.nunique()"
   ]
  },
  {
   "cell_type": "markdown",
   "metadata": {},
   "source": [
    "## Dataset 3:  'dist_judge_unique.csv'---dist_df\n",
    "load the unique district and judge last name occuered in decision data, and create 'judge-district' pair\n",
    "- 712 unique judge-district pair"
   ]
  },
  {
   "cell_type": "code",
   "execution_count": 172,
   "metadata": {},
   "outputs": [],
   "source": [
    "dist_df = pd.read_csv('dist_judge_unique.csv',index_col=0 ) #712 unique judge-district pair\n",
    "#dist_df.judge = dist_df.judge.apply(lambda x:x.lower())\n",
    "#dist_df['judge_dist'] = dist_df.judge+' '+dist_df.district"
   ]
  },
  {
   "cell_type": "code",
   "execution_count": 311,
   "metadata": {},
   "outputs": [
    {
     "data": {
      "text/html": [
       "<div>\n",
       "<style scoped>\n",
       "    .dataframe tbody tr th:only-of-type {\n",
       "        vertical-align: middle;\n",
       "    }\n",
       "\n",
       "    .dataframe tbody tr th {\n",
       "        vertical-align: top;\n",
       "    }\n",
       "\n",
       "    .dataframe thead th {\n",
       "        text-align: right;\n",
       "    }\n",
       "</style>\n",
       "<table border=\"1\" class=\"dataframe\">\n",
       "  <thead>\n",
       "    <tr style=\"text-align: right;\">\n",
       "      <th></th>\n",
       "      <th>district</th>\n",
       "      <th>judge</th>\n",
       "      <th>judge_dist</th>\n",
       "    </tr>\n",
       "  </thead>\n",
       "  <tbody>\n",
       "    <tr>\n",
       "      <th>0</th>\n",
       "      <td>scb</td>\n",
       "      <td>duncan</td>\n",
       "      <td>duncan scb</td>\n",
       "    </tr>\n",
       "    <tr>\n",
       "      <th>1</th>\n",
       "      <td>ilcb</td>\n",
       "      <td>gorman</td>\n",
       "      <td>gorman ilcb</td>\n",
       "    </tr>\n",
       "    <tr>\n",
       "      <th>2</th>\n",
       "      <td>innb</td>\n",
       "      <td>rodibaugh</td>\n",
       "      <td>rodibaugh innb</td>\n",
       "    </tr>\n",
       "    <tr>\n",
       "      <th>3</th>\n",
       "      <td>deb</td>\n",
       "      <td>katz</td>\n",
       "      <td>katz deb</td>\n",
       "    </tr>\n",
       "    <tr>\n",
       "      <th>4</th>\n",
       "      <td>laeb</td>\n",
       "      <td>none</td>\n",
       "      <td>none laeb</td>\n",
       "    </tr>\n",
       "  </tbody>\n",
       "</table>\n",
       "</div>"
      ],
      "text/plain": [
       "  district      judge      judge_dist\n",
       "0      scb     duncan      duncan scb\n",
       "1     ilcb     gorman     gorman ilcb\n",
       "2     innb  rodibaugh  rodibaugh innb\n",
       "3      deb       katz        katz deb\n",
       "4     laeb       none       none laeb"
      ]
     },
     "execution_count": 311,
     "metadata": {},
     "output_type": "execute_result"
    }
   ],
   "source": [
    "dist_df.head()"
   ]
  },
  {
   "cell_type": "markdown",
   "metadata": {},
   "source": [
    "## Dataset 4: 'judge_opinion.csv'——judge_opinion\n",
    "Compute the intersection of 'judge-district' pairs occured in both opinion data and decision data————'judge_inter'\n",
    "- 487 judge-district pair in opinion and decision\n",
    "\n",
    "Select the data from 'all_opinion_abbr.csv' with the 'judge-district' pairs in 'judge_inter', and create 'judge_opinion.csv'.the opinion data with the 'judge-dist' in both the opinion dataset and the decision dateset has:\n",
    "- 64939(65213) rows \n",
    "- 486 unique judge-district pair\n",
    "- 412 unique last name\n",
    "- 757 unique full name\n",
    "- 73 unique districts\n",
    "- 60 judge-district pair with mutiple full-name\n",
    "\n",
    "(remove the row with last name='gregg', bucause matiple judges with the same last name and same district)"
   ]
  },
  {
   "cell_type": "code",
   "execution_count": 188,
   "metadata": {},
   "outputs": [],
   "source": [
    "judge_inter = set(df_abbr.judge_dist.unique()).intersection(set(dist_df.judge_dist.unique()))  "
   ]
  },
  {
   "cell_type": "code",
   "execution_count": 195,
   "metadata": {},
   "outputs": [],
   "source": [
    "judge_opinion = df_abbr[df_abbr['judge_dist'].isin(judge_inter)]"
   ]
  },
  {
   "cell_type": "code",
   "execution_count": 196,
   "metadata": {},
   "outputs": [
    {
     "data": {
      "text/html": [
       "<div>\n",
       "<style scoped>\n",
       "    .dataframe tbody tr th:only-of-type {\n",
       "        vertical-align: middle;\n",
       "    }\n",
       "\n",
       "    .dataframe tbody tr th {\n",
       "        vertical-align: top;\n",
       "    }\n",
       "\n",
       "    .dataframe thead th {\n",
       "        text-align: right;\n",
       "    }\n",
       "</style>\n",
       "<table border=\"1\" class=\"dataframe\">\n",
       "  <thead>\n",
       "    <tr style=\"text-align: right;\">\n",
       "      <th></th>\n",
       "      <th>district</th>\n",
       "      <th>from</th>\n",
       "      <th>full_name</th>\n",
       "      <th>judge</th>\n",
       "      <th>opinion</th>\n",
       "      <th>abbr</th>\n",
       "      <th>judge_dist</th>\n",
       "    </tr>\n",
       "  </thead>\n",
       "  <tbody>\n",
       "    <tr>\n",
       "      <th>0</th>\n",
       "      <td>['western', 'new', 'york']</td>\n",
       "      <td>6398</td>\n",
       "      <td>carl l bucki</td>\n",
       "      <td>bucki</td>\n",
       "      <td>Bucki, Chief U.S.B.J., W.D.N.Y. The Chapter 7 ...</td>\n",
       "      <td>nywb</td>\n",
       "      <td>bucki nywb</td>\n",
       "    </tr>\n",
       "    <tr>\n",
       "      <th>1</th>\n",
       "      <td>['eastern', 'new', 'york']</td>\n",
       "      <td>6398</td>\n",
       "      <td>elizabeth s stong</td>\n",
       "      <td>stong</td>\n",
       "      <td>It appearing that the debtor(s) is entitled to...</td>\n",
       "      <td>nyeb</td>\n",
       "      <td>stong nyeb</td>\n",
       "    </tr>\n",
       "    <tr>\n",
       "      <th>3</th>\n",
       "      <td>['southern', 'new', 'york']</td>\n",
       "      <td>6398</td>\n",
       "      <td>martin glenn</td>\n",
       "      <td>glenn</td>\n",
       "      <td>Pending before the Court is the  In response t...</td>\n",
       "      <td>nysb</td>\n",
       "      <td>glenn nysb</td>\n",
       "    </tr>\n",
       "    <tr>\n",
       "      <th>5</th>\n",
       "      <td>['southern', 'new', 'york']</td>\n",
       "      <td>6398</td>\n",
       "      <td>shelley c chapman</td>\n",
       "      <td>chapman</td>\n",
       "      <td>\"It's not even close.\" So said Sabine's Chief ...</td>\n",
       "      <td>nysb</td>\n",
       "      <td>chapman nysb</td>\n",
       "    </tr>\n",
       "    <tr>\n",
       "      <th>6</th>\n",
       "      <td>['eastern', 'new', 'york']</td>\n",
       "      <td>6398</td>\n",
       "      <td>elizabeth s stong</td>\n",
       "      <td>stong</td>\n",
       "      <td>More than five years ago, on July 6, 2011, USA...</td>\n",
       "      <td>nyeb</td>\n",
       "      <td>stong nyeb</td>\n",
       "    </tr>\n",
       "  </tbody>\n",
       "</table>\n",
       "</div>"
      ],
      "text/plain": [
       "                      district  from          full_name    judge  \\\n",
       "0   ['western', 'new', 'york']  6398       carl l bucki    bucki   \n",
       "1   ['eastern', 'new', 'york']  6398  elizabeth s stong    stong   \n",
       "3  ['southern', 'new', 'york']  6398       martin glenn    glenn   \n",
       "5  ['southern', 'new', 'york']  6398  shelley c chapman  chapman   \n",
       "6   ['eastern', 'new', 'york']  6398  elizabeth s stong    stong   \n",
       "\n",
       "                                             opinion  abbr    judge_dist  \n",
       "0  Bucki, Chief U.S.B.J., W.D.N.Y. The Chapter 7 ...  nywb    bucki nywb  \n",
       "1  It appearing that the debtor(s) is entitled to...  nyeb    stong nyeb  \n",
       "3  Pending before the Court is the  In response t...  nysb    glenn nysb  \n",
       "5  \"It's not even close.\" So said Sabine's Chief ...  nysb  chapman nysb  \n",
       "6  More than five years ago, on July 6, 2011, USA...  nyeb    stong nyeb  "
      ]
     },
     "execution_count": 196,
     "metadata": {},
     "output_type": "execute_result"
    }
   ],
   "source": [
    "judge_opinion.head()"
   ]
  },
  {
   "cell_type": "code",
   "execution_count": 227,
   "metadata": {},
   "outputs": [
    {
     "data": {
      "text/plain": [
       "Index(['abramson txnb', 'adler casb', 'balick deb', 'barliant ilnb',\n",
       "       'bishop scb', 'bostetter vaeb', 'boulden utb', 'bowie casb',\n",
       "       'brahney laeb', 'briskman alsb', 'brown laeb', 'brown tnwb',\n",
       "       'bufford cacb', 'chinen hib', 'clark ohsb', 'clevert wieb',\n",
       "       'drake ganb', 'ecker sdb', 'felsenthal txnb', 'gerling nynb',\n",
       "       'goldwater nvb', 'grant innb', 'graves mieb', 'gregg miwb', 'hale txnb',\n",
       "       'hedrick caeb', 'hess orb', 'hopkins ohsb', 'houston msnb',\n",
       "       'howard kyeb', 'howard miwb', 'hyman flsb', 'jaroslovsky canb',\n",
       "       'jernigan txnb', 'jones nvb', 'kahn ganb', 'keir mdb', 'kingsmill laeb',\n",
       "       'klein caeb', 'mannes mdb', 'marro vtb', 'murphy ganb', 'pappas idb',\n",
       "       'perris orb', 'ray flsb', 'rhodes mieb', 'schmetterer ilnb',\n",
       "       'scott areb', 'sellers ohsb', 'shannon deb', 'sigmund paeb',\n",
       "       'sledge alnb', 'sontchi deb', 'speer ohnb', 'stair tneb',\n",
       "       'stevenson miwb', 'tchaikovsky canb', 'twardowski paeb', 'white ohnb',\n",
       "       'wilson oknb'],\n",
       "      dtype='object', name='judge_dist')"
      ]
     },
     "execution_count": 227,
     "metadata": {},
     "output_type": "execute_result"
    }
   ],
   "source": [
    "jj = judge_opinion.groupby('judge_dist').nunique()\n",
    "jj[jj.full_name>2].judge_dist.keys()"
   ]
  },
  {
   "cell_type": "code",
   "execution_count": 229,
   "metadata": {},
   "outputs": [
    {
     "name": "stdout",
     "output_type": "stream",
     "text": [
      "abramson txnb ['abramson' 'harold c abramson' 'harold abramson']\n",
      "adler casb ['adler' 'loe decarl adler' 'de carl adler']\n",
      "balick deb ['helen s balick' 'balick' 'helen balick' 'helen s balick j']\n",
      "barliant ilnb ['ronald barliant' 'barliant' 'ronald s barliant']\n",
      "bishop scb ['wm thurmond bishop' 'william thurmond bishop' 'thurmond bishop' 'bishop']\n",
      "bostetter vaeb ['martin vb bostetter' 'martin v b bostetter' 'bostetter']\n",
      "boulden utb ['judith a boulden' 'boulden' 'ju5dith a boulden']\n",
      "bowie casb ['peter w bowie' 'peter wentworth bowie' 'bowie']\n",
      "brahney laeb ['thomas m brahney' 't m brahney' 'jm brahney']\n",
      "briskman alsb ['briskman' 'arthur r briskman' 'arthur b briskman']\n",
      "brown laeb ['jerry a brown' 'brown' 'ja brown']\n",
      "brown tnwb ['brown' 'william houston brown' 'william h brown']\n",
      "bufford cacb ['samuel l bufford' 'samuel bufford' 'bufford']\n",
      "chinen hib ['jon j chinen' 'john j chinen' 'jon chinen']\n",
      "clark ohsb ['william a clark' 'william m clark' 'clark']\n",
      "clevert wieb ['c n clevert' 'cn clevert' 'charles n clevert']\n",
      "drake ganb ['w h drake' 'w homer drake' 'drake']\n",
      "ecker sdb ['peder k ecker' 'ecker' 'peder e ecker' 'peder j ecker' 'peter k ecker']\n",
      "felsenthal txnb ['steven a felsenthal' 'felsenthal' 'steve a felsenthal']\n",
      "gerling nynb ['stephen d gerling' 'gerling' 'stephen p gerling']\n",
      "goldwater nvb ['bert m goldwater' 'bert goldwater' 'burt m goldwater']\n",
      "grant innb ['robert e grant' 'grant' 'robert grant']\n",
      "graves mieb ['ray reynolds graves' 'the  ray reynolds graves' 'graves']\n",
      "gregg miwb ['gregg' 'john t gregg' ' john t gregg' 'james d gregg' ' james d gregg']\n",
      "hale txnb ['harlin dewayne hale' 'harlin d hale' 'harlin de wayne hale'\n",
      " ': harlin d hale' 'harlene dewayne hale']\n",
      "hedrick caeb ['joseph w hedrick' 'hedrick' 'j w hedrick']\n",
      "hess orb ['henry hess' 'henry l hess' 'hess']\n",
      "hopkins ohsb ['jeffery p hopkins' 'hopkins' 'jeffrey hopkins' 'jeffrey p hopkins']\n",
      "houston msnb ['david w houston' 'houston' 'davis w houston']\n",
      "howard kyeb ['william s howard' 'howard' 'william howard']\n",
      "howard miwb ['howard' 'laurence e howard' 'laurance e howard' ' laurence e howard']\n",
      "hyman flsb ['paul g hyman' 'hyman' 'cristol; mark; hyman']\n",
      "jaroslovsky canb ['alan jaroslovsky' 'jaroslovsky' 'salan jaroslovsky']\n",
      "jernigan txnb ['stacey gc jernigan' 'stacey g jernigan' 'stacey g c jernigan'\n",
      " 'stacey jernigan']\n",
      "jones nvb ['jones' 'robert clive jones' 'robert c jones']\n",
      "kahn ganb ['kahn' 'a d kahn' 'a david kahn']\n",
      "keir mdb ['duncun w keir' 'duncan w keir' 'keir'\n",
      " 'michael st patrick baxter duncan w keir' ': duncan w keir']\n",
      "kingsmill laeb ['t h kingsmill' 'th kingsmill' 'thomas h kingsmill']\n",
      "klein caeb ['christopher m klein' 'klein' 'christopher klein' 'chistopher m klein']\n",
      "mannes mdb ['paul mannes' 'mannes' 'paul h mannes']\n",
      "marro vtb ['charles j marro' 'marro' 'charles marro']\n",
      "murphy ganb ['margaret h murphy' 'murphy' 'margareth h murphy']\n",
      "pappas idb ['jim d pappas' 'pappas' 'jim pappas']\n",
      "perris orb ['elizabeth l perris' 'perris' 'elizabeth perris']\n",
      "ray flsb ['raymond b ray' 'ray' 'raymon b ray' 'raymund b ray']\n",
      "rhodes mieb ['steven rhodes' 'steven w rhodes' 'rhodes']\n",
      "schmetterer ilnb ['jack b schmetterer' 'schmetterer' 'jack schmetterer']\n",
      "scott areb ['mary davies scott' 'scott' 'mary davis scott']\n",
      "sellers ohsb ['b j sellers' 'barbara j sellers' 'sellers' 'barbarba j sellers']\n",
      "shannon deb ['brendan l shannon' 'brendan linehan shannon' 'brenda l shannon']\n",
      "sigmund paeb ['diane weiss sigmund' 'sigmund' 'diane w sigmund']\n",
      "sledge alnb ['sledge' 'james scott sledge' 'james s sledge']\n",
      "sontchi deb ['christopher s sontchi' 'sontchi' 'chritopher s sontchi']\n",
      "speer ohnb ['richard l speer' 'richara l speer' 'speer' 'richad l speer'\n",
      " 'ricbdrd l speer']\n",
      "stair tneb ['richard stair' 'stair' 'richard s stair']\n",
      "stevenson miwb ['jo ann c stevenson' ' jo ann c stevenson' 'honerable jo ann c stevenson'\n",
      " 'stevenson']\n",
      "tchaikovsky canb ['leslie tchaikovsky' 'leslie j tchaikovsky' 'tchaikovsky']\n",
      "twardowski paeb ['thomas m twardowski' 'by thomas m twardowski' 'twardowski']\n",
      "white ohnb ['hf white' 'h f white' 'harold f white']\n",
      "wilson oknb ['mickey d wilson' 'wilson' 'mickey dan wilson']\n"
     ]
    }
   ],
   "source": [
    "for i in jj[jj.full_name>2].judge_dist.keys():\n",
    "    print(i, judge_opinion[judge_opinion.judge_dist==i].full_name.unique())"
   ]
  },
  {
   "cell_type": "code",
   "execution_count": 313,
   "metadata": {},
   "outputs": [
    {
     "data": {
      "text/html": [
       "<div>\n",
       "<style scoped>\n",
       "    .dataframe tbody tr th:only-of-type {\n",
       "        vertical-align: middle;\n",
       "    }\n",
       "\n",
       "    .dataframe tbody tr th {\n",
       "        vertical-align: top;\n",
       "    }\n",
       "\n",
       "    .dataframe thead th {\n",
       "        text-align: right;\n",
       "    }\n",
       "</style>\n",
       "<table border=\"1\" class=\"dataframe\">\n",
       "  <thead>\n",
       "    <tr style=\"text-align: right;\">\n",
       "      <th></th>\n",
       "      <th>district</th>\n",
       "      <th>from</th>\n",
       "      <th>full_name</th>\n",
       "      <th>judge</th>\n",
       "      <th>opinion</th>\n",
       "      <th>abbr</th>\n",
       "      <th>judge_dist</th>\n",
       "    </tr>\n",
       "    <tr>\n",
       "      <th>judge</th>\n",
       "      <th></th>\n",
       "      <th></th>\n",
       "      <th></th>\n",
       "      <th></th>\n",
       "      <th></th>\n",
       "      <th></th>\n",
       "      <th></th>\n",
       "    </tr>\n",
       "  </thead>\n",
       "  <tbody>\n",
       "    <tr>\n",
       "      <th>akard</th>\n",
       "      <td>2</td>\n",
       "      <td>2</td>\n",
       "      <td>2</td>\n",
       "      <td>1</td>\n",
       "      <td>33</td>\n",
       "      <td>2</td>\n",
       "      <td>2</td>\n",
       "    </tr>\n",
       "    <tr>\n",
       "      <th>altenberger</th>\n",
       "      <td>2</td>\n",
       "      <td>1</td>\n",
       "      <td>2</td>\n",
       "      <td>1</td>\n",
       "      <td>48</td>\n",
       "      <td>2</td>\n",
       "      <td>2</td>\n",
       "    </tr>\n",
       "    <tr>\n",
       "      <th>baxter</th>\n",
       "      <td>2</td>\n",
       "      <td>2</td>\n",
       "      <td>2</td>\n",
       "      <td>1</td>\n",
       "      <td>93</td>\n",
       "      <td>2</td>\n",
       "      <td>2</td>\n",
       "    </tr>\n",
       "    <tr>\n",
       "      <th>bernstein</th>\n",
       "      <td>2</td>\n",
       "      <td>2</td>\n",
       "      <td>2</td>\n",
       "      <td>1</td>\n",
       "      <td>173</td>\n",
       "      <td>2</td>\n",
       "      <td>2</td>\n",
       "    </tr>\n",
       "    <tr>\n",
       "      <th>bohanon</th>\n",
       "      <td>3</td>\n",
       "      <td>3</td>\n",
       "      <td>2</td>\n",
       "      <td>1</td>\n",
       "      <td>145</td>\n",
       "      <td>3</td>\n",
       "      <td>3</td>\n",
       "    </tr>\n",
       "  </tbody>\n",
       "</table>\n",
       "</div>"
      ],
      "text/plain": [
       "             district  from  full_name  judge  opinion  abbr  judge_dist\n",
       "judge                                                                   \n",
       "akard               2     2          2      1       33     2           2\n",
       "altenberger         2     1          2      1       48     2           2\n",
       "baxter              2     2          2      1       93     2           2\n",
       "bernstein           2     2          2      1      173     2           2\n",
       "bohanon             3     3          2      1      145     3           3"
      ]
     },
     "execution_count": 313,
     "metadata": {},
     "output_type": "execute_result"
    }
   ],
   "source": [
    "gg = judge_opinion.groupby('judge').nunique()\n",
    "gg[gg.district>1].head()"
   ]
  },
  {
   "cell_type": "code",
   "execution_count": 260,
   "metadata": {},
   "outputs": [],
   "source": [
    "#for i in gg[gg.district>1].judge.keys():\n",
    "#    print(i, judge_opinion[judge_opinion.judge==i][['full_name','abbr']].apply(tuple,axis=1).unique())"
   ]
  },
  {
   "cell_type": "code",
   "execution_count": 265,
   "metadata": {},
   "outputs": [
    {
     "data": {
      "text/html": [
       "<div>\n",
       "<style scoped>\n",
       "    .dataframe tbody tr th:only-of-type {\n",
       "        vertical-align: middle;\n",
       "    }\n",
       "\n",
       "    .dataframe tbody tr th {\n",
       "        vertical-align: top;\n",
       "    }\n",
       "\n",
       "    .dataframe thead th {\n",
       "        text-align: right;\n",
       "    }\n",
       "</style>\n",
       "<table border=\"1\" class=\"dataframe\">\n",
       "  <thead>\n",
       "    <tr style=\"text-align: right;\">\n",
       "      <th></th>\n",
       "      <th>district</th>\n",
       "      <th>from</th>\n",
       "      <th>full_name</th>\n",
       "      <th>judge</th>\n",
       "      <th>opinion</th>\n",
       "      <th>abbr</th>\n",
       "      <th>judge_dist</th>\n",
       "    </tr>\n",
       "  </thead>\n",
       "  <tbody>\n",
       "    <tr>\n",
       "      <th>0</th>\n",
       "      <td>['western', 'new', 'york']</td>\n",
       "      <td>6398</td>\n",
       "      <td>carl l bucki</td>\n",
       "      <td>bucki</td>\n",
       "      <td>Bucki, Chief U.S.B.J., W.D.N.Y. The Chapter 7 ...</td>\n",
       "      <td>nywb</td>\n",
       "      <td>bucki nywb</td>\n",
       "    </tr>\n",
       "    <tr>\n",
       "      <th>1</th>\n",
       "      <td>['eastern', 'new', 'york']</td>\n",
       "      <td>6398</td>\n",
       "      <td>elizabeth s stong</td>\n",
       "      <td>stong</td>\n",
       "      <td>It appearing that the debtor(s) is entitled to...</td>\n",
       "      <td>nyeb</td>\n",
       "      <td>stong nyeb</td>\n",
       "    </tr>\n",
       "    <tr>\n",
       "      <th>3</th>\n",
       "      <td>['southern', 'new', 'york']</td>\n",
       "      <td>6398</td>\n",
       "      <td>martin glenn</td>\n",
       "      <td>glenn</td>\n",
       "      <td>Pending before the Court is the  In response t...</td>\n",
       "      <td>nysb</td>\n",
       "      <td>glenn nysb</td>\n",
       "    </tr>\n",
       "    <tr>\n",
       "      <th>5</th>\n",
       "      <td>['southern', 'new', 'york']</td>\n",
       "      <td>6398</td>\n",
       "      <td>shelley c chapman</td>\n",
       "      <td>chapman</td>\n",
       "      <td>\"It's not even close.\" So said Sabine's Chief ...</td>\n",
       "      <td>nysb</td>\n",
       "      <td>chapman nysb</td>\n",
       "    </tr>\n",
       "    <tr>\n",
       "      <th>6</th>\n",
       "      <td>['eastern', 'new', 'york']</td>\n",
       "      <td>6398</td>\n",
       "      <td>elizabeth s stong</td>\n",
       "      <td>stong</td>\n",
       "      <td>More than five years ago, on July 6, 2011, USA...</td>\n",
       "      <td>nyeb</td>\n",
       "      <td>stong nyeb</td>\n",
       "    </tr>\n",
       "  </tbody>\n",
       "</table>\n",
       "</div>"
      ],
      "text/plain": [
       "                      district  from          full_name    judge  \\\n",
       "0   ['western', 'new', 'york']  6398       carl l bucki    bucki   \n",
       "1   ['eastern', 'new', 'york']  6398  elizabeth s stong    stong   \n",
       "3  ['southern', 'new', 'york']  6398       martin glenn    glenn   \n",
       "5  ['southern', 'new', 'york']  6398  shelley c chapman  chapman   \n",
       "6   ['eastern', 'new', 'york']  6398  elizabeth s stong    stong   \n",
       "\n",
       "                                             opinion  abbr    judge_dist  \n",
       "0  Bucki, Chief U.S.B.J., W.D.N.Y. The Chapter 7 ...  nywb    bucki nywb  \n",
       "1  It appearing that the debtor(s) is entitled to...  nyeb    stong nyeb  \n",
       "3  Pending before the Court is the  In response t...  nysb    glenn nysb  \n",
       "5  \"It's not even close.\" So said Sabine's Chief ...  nysb  chapman nysb  \n",
       "6  More than five years ago, on July 6, 2011, USA...  nyeb    stong nyeb  "
      ]
     },
     "execution_count": 265,
     "metadata": {},
     "output_type": "execute_result"
    }
   ],
   "source": [
    "judge_opinion.head()"
   ]
  },
  {
   "cell_type": "code",
   "execution_count": 262,
   "metadata": {},
   "outputs": [],
   "source": [
    "judge_opinion=judge_opinion[judge_opinion.judge!='gregg']"
   ]
  },
  {
   "cell_type": "code",
   "execution_count": 264,
   "metadata": {},
   "outputs": [],
   "source": [
    "judge_opinion.to_csv('judge_opinion.csv')"
   ]
  },
  {
   "cell_type": "markdown",
   "metadata": {},
   "source": [
    "## Dataset 4.1 : 'judge_opinion_truc.csv'——df_truc\n",
    "trcated the judge_opinion data into a dataset with only 2 columns:judge_dist\topinions\n",
    "- 64939 rows\n",
    "- 486 unique 'judge-district' pairs\n",
    "\n",
    "this dataset could be used to calculate the opinions of each judge, and merge the opinions from same judge"
   ]
  },
  {
   "cell_type": "code",
   "execution_count": 319,
   "metadata": {},
   "outputs": [
    {
     "data": {
      "text/html": [
       "<div>\n",
       "<style scoped>\n",
       "    .dataframe tbody tr th:only-of-type {\n",
       "        vertical-align: middle;\n",
       "    }\n",
       "\n",
       "    .dataframe tbody tr th {\n",
       "        vertical-align: top;\n",
       "    }\n",
       "\n",
       "    .dataframe thead th {\n",
       "        text-align: right;\n",
       "    }\n",
       "</style>\n",
       "<table border=\"1\" class=\"dataframe\">\n",
       "  <thead>\n",
       "    <tr style=\"text-align: right;\">\n",
       "      <th></th>\n",
       "      <th>judge_dist</th>\n",
       "      <th>opinion</th>\n",
       "    </tr>\n",
       "  </thead>\n",
       "  <tbody>\n",
       "    <tr>\n",
       "      <th>0</th>\n",
       "      <td>bucki nywb</td>\n",
       "      <td>Bucki, Chief U.S.B.J., W.D.N.Y. The Chapter 7 ...</td>\n",
       "    </tr>\n",
       "    <tr>\n",
       "      <th>1</th>\n",
       "      <td>stong nyeb</td>\n",
       "      <td>It appearing that the debtor(s) is entitled to...</td>\n",
       "    </tr>\n",
       "    <tr>\n",
       "      <th>3</th>\n",
       "      <td>glenn nysb</td>\n",
       "      <td>Pending before the Court is the  In response t...</td>\n",
       "    </tr>\n",
       "    <tr>\n",
       "      <th>5</th>\n",
       "      <td>chapman nysb</td>\n",
       "      <td>\"It's not even close.\" So said Sabine's Chief ...</td>\n",
       "    </tr>\n",
       "    <tr>\n",
       "      <th>6</th>\n",
       "      <td>stong nyeb</td>\n",
       "      <td>More than five years ago, on July 6, 2011, USA...</td>\n",
       "    </tr>\n",
       "  </tbody>\n",
       "</table>\n",
       "</div>"
      ],
      "text/plain": [
       "     judge_dist                                            opinion\n",
       "0    bucki nywb  Bucki, Chief U.S.B.J., W.D.N.Y. The Chapter 7 ...\n",
       "1    stong nyeb  It appearing that the debtor(s) is entitled to...\n",
       "3    glenn nysb  Pending before the Court is the  In response t...\n",
       "5  chapman nysb  \"It's not even close.\" So said Sabine's Chief ...\n",
       "6    stong nyeb  More than five years ago, on July 6, 2011, USA..."
      ]
     },
     "execution_count": 319,
     "metadata": {},
     "output_type": "execute_result"
    }
   ],
   "source": [
    "#df_truc = pd.DataFrame({'judge_dist': judge_opinion.judge_dist,'opinion': judge_opinion.opinion})\n",
    "#df_truc.to_csv('judge_opinion_truc.csv')\n",
    "df_truc = pd.read_csv('judge_opinion_truc.csv', index_col = 0)\n",
    "df_truc.head()"
   ]
  },
  {
   "cell_type": "markdown",
   "metadata": {},
   "source": [
    "## Dataset 5 : 'merged_opinions.csv'——judge_opinions\n",
    "calculate the amount of opinions of different 'judge-district' pairs\n",
    "\n",
    "transfer the opinions into lowercase and merge them together\n",
    "- 486 unique 'judge-district' pairs\n",
    "- 64939 opinions in sum\n",
    "\n",
    "this dataset id used for tf-idf representation for each judge"
   ]
  },
  {
   "cell_type": "code",
   "execution_count": 328,
   "metadata": {},
   "outputs": [],
   "source": [
    "#g = df_truc.groupby('judge_dist')\n",
    "#judge_opinions = {}\n",
    "#for i in g.groups.keys():\n",
    "#    judge_opinions[i] = [df_truc.opinion[i] for i in g.groups[i]]\n",
    "#judge_opinions = pd.DataFrame(list(judge_opinions.items()), columns=['judge_dist', 'opinions'])\n",
    "#judge_opinions['num_opinions'] = judge_opinions['opinions'].apply(lambda x: len(x))\n",
    "#judge_opinions.opinions = judge_opinions.opinions.apply(lambda x: re.sub( '\\s+',' ',re.sub(r'[^\\w]|\\d', ' ',str(x).lower())))\n",
    "#judge_opinions.to_csv('merged_opinions.csv')\n",
    "judge_opinions = pd.read_csv('merged_opinions.csv', index_col=0)"
   ]
  },
  {
   "cell_type": "code",
   "execution_count": 329,
   "metadata": {},
   "outputs": [
    {
     "data": {
      "text/html": [
       "<div>\n",
       "<style scoped>\n",
       "    .dataframe tbody tr th:only-of-type {\n",
       "        vertical-align: middle;\n",
       "    }\n",
       "\n",
       "    .dataframe tbody tr th {\n",
       "        vertical-align: top;\n",
       "    }\n",
       "\n",
       "    .dataframe thead th {\n",
       "        text-align: right;\n",
       "    }\n",
       "</style>\n",
       "<table border=\"1\" class=\"dataframe\">\n",
       "  <thead>\n",
       "    <tr style=\"text-align: right;\">\n",
       "      <th></th>\n",
       "      <th>judge_dist</th>\n",
       "      <th>opinions</th>\n",
       "      <th>num_opinions</th>\n",
       "    </tr>\n",
       "  </thead>\n",
       "  <tbody>\n",
       "    <tr>\n",
       "      <th>0</th>\n",
       "      <td>abel txeb</td>\n",
       "      <td>before the court is a motion for contempt and...</td>\n",
       "      <td>14</td>\n",
       "    </tr>\n",
       "    <tr>\n",
       "      <th>1</th>\n",
       "      <td>abramson txnb</td>\n",
       "      <td>came on for hearing on the th day of october ...</td>\n",
       "      <td>35</td>\n",
       "    </tr>\n",
       "    <tr>\n",
       "      <th>2</th>\n",
       "      <td>adams vaeb</td>\n",
       "      <td>this matter comes before the court on ehrenfr...</td>\n",
       "      <td>73</td>\n",
       "    </tr>\n",
       "    <tr>\n",
       "      <th>3</th>\n",
       "      <td>adler casb</td>\n",
       "      <td>alfred and ruth nadel judicial lien holders f...</td>\n",
       "      <td>64</td>\n",
       "    </tr>\n",
       "    <tr>\n",
       "      <th>4</th>\n",
       "      <td>agresti pawb</td>\n",
       "      <td>presently before the court in response to the...</td>\n",
       "      <td>38</td>\n",
       "    </tr>\n",
       "  </tbody>\n",
       "</table>\n",
       "</div>"
      ],
      "text/plain": [
       "      judge_dist                                           opinions  \\\n",
       "0      abel txeb   before the court is a motion for contempt and...   \n",
       "1  abramson txnb   came on for hearing on the th day of october ...   \n",
       "2     adams vaeb   this matter comes before the court on ehrenfr...   \n",
       "3     adler casb   alfred and ruth nadel judicial lien holders f...   \n",
       "4   agresti pawb   presently before the court in response to the...   \n",
       "\n",
       "   num_opinions  \n",
       "0            14  \n",
       "1            35  \n",
       "2            73  \n",
       "3            64  \n",
       "4            38  "
      ]
     },
     "execution_count": 329,
     "metadata": {},
     "output_type": "execute_result"
    }
   ],
   "source": [
    "judge_opinions.head()"
   ]
  },
  {
   "cell_type": "code",
   "execution_count": 332,
   "metadata": {},
   "outputs": [
    {
     "data": {
      "image/png": "[encoded data removed]",
      "text/plain": [
       "<matplotlib.figure.Figure at 0x11370cc50>"
      ]
     },
     "metadata": {},
     "output_type": "display_data"
    }
   ],
   "source": [
    "sns.set(color_codes=True)\n",
    "sns.distplot(judge_opinions.num_opinions)\n",
    "plt.show()"
   ]
  },
  {
   "cell_type": "markdown",
   "metadata": {},
   "source": [
    "## TF-IDF representation"
   ]
  },
  {
   "cell_type": "code",
   "execution_count": 6,
   "metadata": {},
   "outputs": [],
   "source": [
    "from sklearn.feature_extraction.text import TfidfVectorizer\n",
    "tokenize = lambda doc: doc.lower().split(\" \")"
   ]
  },
  {
   "cell_type": "code",
   "execution_count": 7,
   "metadata": {},
   "outputs": [
    {
     "data": {
      "text/html": [
       "<div>\n",
       "<style scoped>\n",
       "    .dataframe tbody tr th:only-of-type {\n",
       "        vertical-align: middle;\n",
       "    }\n",
       "\n",
       "    .dataframe tbody tr th {\n",
       "        vertical-align: top;\n",
       "    }\n",
       "\n",
       "    .dataframe thead th {\n",
       "        text-align: right;\n",
       "    }\n",
       "</style>\n",
       "<table border=\"1\" class=\"dataframe\">\n",
       "  <thead>\n",
       "    <tr style=\"text-align: right;\">\n",
       "      <th></th>\n",
       "      <th>judge_dist</th>\n",
       "      <th>opinions</th>\n",
       "      <th>num_opinions</th>\n",
       "    </tr>\n",
       "  </thead>\n",
       "  <tbody>\n",
       "    <tr>\n",
       "      <th>0</th>\n",
       "      <td>abel txeb</td>\n",
       "      <td>before the court is a motion for contempt and...</td>\n",
       "      <td>14</td>\n",
       "    </tr>\n",
       "    <tr>\n",
       "      <th>1</th>\n",
       "      <td>abramson txnb</td>\n",
       "      <td>came on for hearing on the th day of october ...</td>\n",
       "      <td>35</td>\n",
       "    </tr>\n",
       "    <tr>\n",
       "      <th>2</th>\n",
       "      <td>adams vaeb</td>\n",
       "      <td>this matter comes before the court on ehrenfr...</td>\n",
       "      <td>73</td>\n",
       "    </tr>\n",
       "    <tr>\n",
       "      <th>3</th>\n",
       "      <td>adler casb</td>\n",
       "      <td>alfred and ruth nadel judicial lien holders f...</td>\n",
       "      <td>64</td>\n",
       "    </tr>\n",
       "    <tr>\n",
       "      <th>4</th>\n",
       "      <td>agresti pawb</td>\n",
       "      <td>presently before the court in response to the...</td>\n",
       "      <td>38</td>\n",
       "    </tr>\n",
       "  </tbody>\n",
       "</table>\n",
       "</div>"
      ],
      "text/plain": [
       "      judge_dist                                           opinions  \\\n",
       "0      abel txeb   before the court is a motion for contempt and...   \n",
       "1  abramson txnb   came on for hearing on the th day of october ...   \n",
       "2     adams vaeb   this matter comes before the court on ehrenfr...   \n",
       "3     adler casb   alfred and ruth nadel judicial lien holders f...   \n",
       "4   agresti pawb   presently before the court in response to the...   \n",
       "\n",
       "   num_opinions  \n",
       "0            14  \n",
       "1            35  \n",
       "2            73  \n",
       "3            64  \n",
       "4            38  "
      ]
     },
     "execution_count": 7,
     "metadata": {},
     "output_type": "execute_result"
    }
   ],
   "source": [
    "judge_opinions = pd.read_csv('merged_opinions.csv', index_col=0)\n",
    "judge_opinions.head()"
   ]
  },
  {
   "cell_type": "code",
   "execution_count": 20,
   "metadata": {},
   "outputs": [],
   "source": [
    "all_opinions = [judge_opinions.opinions[i] for i in range(len(judge_opinions))]\n",
    "\n",
    "sklearn_tfidf = TfidfVectorizer(norm='l2',min_df=0, use_idf=True, smooth_idf=False, sublinear_tf=True, tokenizer=tokenize)\n",
    "opinions_tfidf = sklearn_tfidf.fit_transform(all_opinions)"
   ]
  },
  {
   "cell_type": "markdown",
   "metadata": {},
   "source": [
    "- 86253 features in the tf-idf "
   ]
  },
  {
   "cell_type": "code",
   "execution_count": 52,
   "metadata": {},
   "outputs": [
    {
     "data": {
      "text/plain": [
       "86253"
      ]
     },
     "execution_count": 52,
     "metadata": {},
     "output_type": "execute_result"
    }
   ],
   "source": [
    "len(sklearn_tfidf.get_feature_names())"
   ]
  },
  {
   "cell_type": "code",
   "execution_count": 33,
   "metadata": {},
   "outputs": [
    {
     "data": {
      "text/plain": [
       "<1x86253 sparse matrix of type '<class 'numpy.float64'>'\n",
       "\twith 1796 stored elements in Compressed Sparse Row format>"
      ]
     },
     "execution_count": 33,
     "metadata": {},
     "output_type": "execute_result"
    }
   ],
   "source": [
    "opinions_tfidf[0]"
   ]
  },
  {
   "cell_type": "code",
   "execution_count": 34,
   "metadata": {},
   "outputs": [
    {
     "data": {
      "text/plain": [
       "86253"
      ]
     },
     "execution_count": 34,
     "metadata": {},
     "output_type": "execute_result"
    }
   ],
   "source": [
    "opinions_tfidf.toarray()[0].tolist()"
   ]
  },
  {
   "cell_type": "markdown",
   "metadata": {},
   "source": [
    "## Dataset 6:'opinions_tfidf.csv'--df_idf\n",
    "the tf-idf representation for opinions. tf-idf for different judges is normalized with tf-idf=td*idf/num_opinions\n",
    "- 486 rows(judge-district)\n",
    "- 86253 columns(features)\n",
    "\n",
    "the features are then selected by the tf-idf value"
   ]
  },
  {
   "cell_type": "code",
   "execution_count": 81,
   "metadata": {},
   "outputs": [],
   "source": [
    "df_idf = pd.DataFrame(columns =judge_opinions.judge_dist)\n",
    "for i,j in enumerate(df_idf.columns):\n",
    "    df_idf[j] = opinions_tfidf.toarray()[i].tolist()/judge_opinions.num_opinions[i]\n",
    "df_idf = df_idf.transpose()\n",
    "df_idf.columns= sklearn_tfidf.get_feature_names()"
   ]
  },
  {
   "cell_type": "code",
   "execution_count": 82,
   "metadata": {},
   "outputs": [],
   "source": [
    "df_idf.to_csv('opinions_tfidf.csv')"
   ]
  },
  {
   "cell_type": "code",
   "execution_count": 85,
   "metadata": {},
   "outputs": [],
   "source": [
    "df_idf = pd.read_csv('opinions_tfidf.csv', index_col = 0)"
   ]
  },
  {
   "cell_type": "code",
   "execution_count": 84,
   "metadata": {},
   "outputs": [
    {
     "data": {
      "text/html": [
       "<div>\n",
       "<style scoped>\n",
       "    .dataframe tbody tr th:only-of-type {\n",
       "        vertical-align: middle;\n",
       "    }\n",
       "\n",
       "    .dataframe tbody tr th {\n",
       "        vertical-align: top;\n",
       "    }\n",
       "\n",
       "    .dataframe thead th {\n",
       "        text-align: right;\n",
       "    }\n",
       "</style>\n",
       "<table border=\"1\" class=\"dataframe\">\n",
       "  <thead>\n",
       "    <tr style=\"text-align: right;\">\n",
       "      <th></th>\n",
       "      <th></th>\n",
       "      <th>_</th>\n",
       "      <th>__</th>\n",
       "      <th>___</th>\n",
       "      <th>_csv</th>\n",
       "      <th>_exh</th>\n",
       "      <th>a</th>\n",
       "      <th>aa</th>\n",
       "      <th>aaa</th>\n",
       "      <th>aaaa</th>\n",
       "      <th>...</th>\n",
       "      <th>µg</th>\n",
       "      <th>à</th>\n",
       "      <th>á</th>\n",
       "      <th>österreichische</th>\n",
       "      <th>şekilde</th>\n",
       "      <th>şubeniz</th>\n",
       "      <th>δip</th>\n",
       "      <th>π</th>\n",
       "      <th>ߞ</th>\n",
       "      <th>荤</th>\n",
       "    </tr>\n",
       "    <tr>\n",
       "      <th>judge_dist</th>\n",
       "      <th></th>\n",
       "      <th></th>\n",
       "      <th></th>\n",
       "      <th></th>\n",
       "      <th></th>\n",
       "      <th></th>\n",
       "      <th></th>\n",
       "      <th></th>\n",
       "      <th></th>\n",
       "      <th></th>\n",
       "      <th></th>\n",
       "      <th></th>\n",
       "      <th></th>\n",
       "      <th></th>\n",
       "      <th></th>\n",
       "      <th></th>\n",
       "      <th></th>\n",
       "      <th></th>\n",
       "      <th></th>\n",
       "      <th></th>\n",
       "      <th></th>\n",
       "    </tr>\n",
       "  </thead>\n",
       "  <tbody>\n",
       "    <tr>\n",
       "      <th>abel txeb</th>\n",
       "      <td>0.000478</td>\n",
       "      <td>0.0</td>\n",
       "      <td>0.0</td>\n",
       "      <td>0.0</td>\n",
       "      <td>0.0</td>\n",
       "      <td>0.0</td>\n",
       "      <td>0.002089</td>\n",
       "      <td>0.000000</td>\n",
       "      <td>0.0</td>\n",
       "      <td>0.0</td>\n",
       "      <td>...</td>\n",
       "      <td>0.0</td>\n",
       "      <td>0.0</td>\n",
       "      <td>0.0</td>\n",
       "      <td>0.0</td>\n",
       "      <td>0.0</td>\n",
       "      <td>0.0</td>\n",
       "      <td>0.0</td>\n",
       "      <td>0.0</td>\n",
       "      <td>0.0</td>\n",
       "      <td>0.0</td>\n",
       "    </tr>\n",
       "    <tr>\n",
       "      <th>abramson txnb</th>\n",
       "      <td>0.000160</td>\n",
       "      <td>0.0</td>\n",
       "      <td>0.0</td>\n",
       "      <td>0.0</td>\n",
       "      <td>0.0</td>\n",
       "      <td>0.0</td>\n",
       "      <td>0.000768</td>\n",
       "      <td>0.000000</td>\n",
       "      <td>0.0</td>\n",
       "      <td>0.0</td>\n",
       "      <td>...</td>\n",
       "      <td>0.0</td>\n",
       "      <td>0.0</td>\n",
       "      <td>0.0</td>\n",
       "      <td>0.0</td>\n",
       "      <td>0.0</td>\n",
       "      <td>0.0</td>\n",
       "      <td>0.0</td>\n",
       "      <td>0.0</td>\n",
       "      <td>0.0</td>\n",
       "      <td>0.0</td>\n",
       "    </tr>\n",
       "    <tr>\n",
       "      <th>adams vaeb</th>\n",
       "      <td>0.000055</td>\n",
       "      <td>0.0</td>\n",
       "      <td>0.0</td>\n",
       "      <td>0.0</td>\n",
       "      <td>0.0</td>\n",
       "      <td>0.0</td>\n",
       "      <td>0.000280</td>\n",
       "      <td>0.000000</td>\n",
       "      <td>0.0</td>\n",
       "      <td>0.0</td>\n",
       "      <td>...</td>\n",
       "      <td>0.0</td>\n",
       "      <td>0.0</td>\n",
       "      <td>0.0</td>\n",
       "      <td>0.0</td>\n",
       "      <td>0.0</td>\n",
       "      <td>0.0</td>\n",
       "      <td>0.0</td>\n",
       "      <td>0.0</td>\n",
       "      <td>0.0</td>\n",
       "      <td>0.0</td>\n",
       "    </tr>\n",
       "    <tr>\n",
       "      <th>adler casb</th>\n",
       "      <td>0.000070</td>\n",
       "      <td>0.0</td>\n",
       "      <td>0.0</td>\n",
       "      <td>0.0</td>\n",
       "      <td>0.0</td>\n",
       "      <td>0.0</td>\n",
       "      <td>0.000351</td>\n",
       "      <td>0.000372</td>\n",
       "      <td>0.0</td>\n",
       "      <td>0.0</td>\n",
       "      <td>...</td>\n",
       "      <td>0.0</td>\n",
       "      <td>0.0</td>\n",
       "      <td>0.0</td>\n",
       "      <td>0.0</td>\n",
       "      <td>0.0</td>\n",
       "      <td>0.0</td>\n",
       "      <td>0.0</td>\n",
       "      <td>0.0</td>\n",
       "      <td>0.0</td>\n",
       "      <td>0.0</td>\n",
       "    </tr>\n",
       "    <tr>\n",
       "      <th>agresti pawb</th>\n",
       "      <td>0.000107</td>\n",
       "      <td>0.0</td>\n",
       "      <td>0.0</td>\n",
       "      <td>0.0</td>\n",
       "      <td>0.0</td>\n",
       "      <td>0.0</td>\n",
       "      <td>0.000546</td>\n",
       "      <td>0.000000</td>\n",
       "      <td>0.0</td>\n",
       "      <td>0.0</td>\n",
       "      <td>...</td>\n",
       "      <td>0.0</td>\n",
       "      <td>0.0</td>\n",
       "      <td>0.0</td>\n",
       "      <td>0.0</td>\n",
       "      <td>0.0</td>\n",
       "      <td>0.0</td>\n",
       "      <td>0.0</td>\n",
       "      <td>0.0</td>\n",
       "      <td>0.0</td>\n",
       "      <td>0.0</td>\n",
       "    </tr>\n",
       "  </tbody>\n",
       "</table>\n",
       "<p>5 rows × 86253 columns</p>\n",
       "</div>"
      ],
      "text/plain": [
       "                           _   __  ___  _csv  _exh         a        aa  aaa  \\\n",
       "judge_dist                                                                    \n",
       "abel txeb      0.000478  0.0  0.0  0.0   0.0   0.0  0.002089  0.000000  0.0   \n",
       "abramson txnb  0.000160  0.0  0.0  0.0   0.0   0.0  0.000768  0.000000  0.0   \n",
       "adams vaeb     0.000055  0.0  0.0  0.0   0.0   0.0  0.000280  0.000000  0.0   \n",
       "adler casb     0.000070  0.0  0.0  0.0   0.0   0.0  0.000351  0.000372  0.0   \n",
       "agresti pawb   0.000107  0.0  0.0  0.0   0.0   0.0  0.000546  0.000000  0.0   \n",
       "\n",
       "               aaaa ...    µg    à    á  österreichische  şekilde  şubeniz  \\\n",
       "judge_dist          ...                                                      \n",
       "abel txeb       0.0 ...   0.0  0.0  0.0              0.0      0.0      0.0   \n",
       "abramson txnb   0.0 ...   0.0  0.0  0.0              0.0      0.0      0.0   \n",
       "adams vaeb      0.0 ...   0.0  0.0  0.0              0.0      0.0      0.0   \n",
       "adler casb      0.0 ...   0.0  0.0  0.0              0.0      0.0      0.0   \n",
       "agresti pawb    0.0 ...   0.0  0.0  0.0              0.0      0.0      0.0   \n",
       "\n",
       "               δip    π    ߞ    荤  \n",
       "judge_dist                         \n",
       "abel txeb      0.0  0.0  0.0  0.0  \n",
       "abramson txnb  0.0  0.0  0.0  0.0  \n",
       "adams vaeb     0.0  0.0  0.0  0.0  \n",
       "adler casb     0.0  0.0  0.0  0.0  \n",
       "agresti pawb   0.0  0.0  0.0  0.0  \n",
       "\n",
       "[5 rows x 86253 columns]"
      ]
     },
     "execution_count": 84,
     "metadata": {},
     "output_type": "execute_result"
    }
   ],
   "source": [
    "df_idf.head()"
   ]
  },
  {
   "cell_type": "code",
   "execution_count": 114,
   "metadata": {},
   "outputs": [
    {
     "data": {
      "image/png": "[encoded data removed]",
      "text/plain": [
       "<matplotlib.figure.Figure at 0x1a3c94da20>"
      ]
     },
     "metadata": {},
     "output_type": "display_data"
    }
   ],
   "source": [
    "import matplotlib.pyplot as plt\n",
    "import seaborn as sns\n",
    "sns.set(color_codes=True)\n",
    "sns.distplot(df_idf.mean())\n",
    "plt.show()"
   ]
  },
  {
   "cell_type": "code",
   "execution_count": 135,
   "metadata": {},
   "outputs": [
    {
     "name": "stdout",
     "output_type": "stream",
     "text": [
      "[nltk_data] Downloading package words to /Users/xinguan/nltk_data...\n",
      "[nltk_data]   Package words is already up-to-date!\n"
     ]
    }
   ],
   "source": [
    "import nltk\n",
    "nltk.download('words')\n",
    "from nltk.corpus import words"
   ]
  },
  {
   "cell_type": "markdown",
   "metadata": {},
   "source": [
    "## Feature Selection"
   ]
  },
  {
   "cell_type": "markdown",
   "metadata": {},
   "source": [
    "Remove the features which are not english words or letter\n",
    "- 23882 features"
   ]
  },
  {
   "cell_type": "code",
   "execution_count": 228,
   "metadata": {},
   "outputs": [],
   "source": [
    "eng_feature = set(df_idf.columns).intersection(set(words.words()))\n",
    "eng_feature = eng_feature - set([i for i in list(eng_feature) if len(i) == 1])"
   ]
  },
  {
   "cell_type": "markdown",
   "metadata": {},
   "source": [
    "## Dataset 7:'opinions_tfidf_filter1.csv'--df_idf_filter\n",
    "Remove the features which are not english words or letter\n",
    "- 23882 features\n",
    "\n",
    "$log(tfidf+1)+10$"
   ]
  },
  {
   "cell_type": "code",
   "execution_count": 239,
   "metadata": {},
   "outputs": [],
   "source": [
    "df_idf_filter = df_idf[list(eng_feature)]"
   ]
  },
  {
   "cell_type": "code",
   "execution_count": 309,
   "metadata": {},
   "outputs": [],
   "source": [
    "df_idf_filter.to_csv('opinions_tfidf_filter1.csv')"
   ]
  },
  {
   "cell_type": "code",
   "execution_count": 252,
   "metadata": {},
   "outputs": [
    {
     "data": {
      "text/plain": [
       "judge_dist\n",
       "magner laeb    0.000069\n",
       "Name: solidarily, dtype: float64"
      ]
     },
     "execution_count": 252,
     "metadata": {},
     "output_type": "execute_result"
    }
   ],
   "source": [
    "df_idf_filter.solidarily[df_idf_filter['solidarily']!=0]"
   ]
  },
  {
   "cell_type": "code",
   "execution_count": 351,
   "metadata": {},
   "outputs": [
    {
     "data": {
      "text/plain": [
       "6.944087006775435e-05"
      ]
     },
     "execution_count": 351,
     "metadata": {},
     "output_type": "execute_result"
    }
   ],
   "source": [
    "df_idf_filter.solidarily[df_idf_filter['solidarily']!=0].mean()"
   ]
  },
  {
   "cell_type": "code",
   "execution_count": 352,
   "metadata": {},
   "outputs": [
    {
     "data": {
      "text/plain": [
       "6.944087006775435e-05"
      ]
     },
     "execution_count": 352,
     "metadata": {},
     "output_type": "execute_result"
    }
   ],
   "source": [
    "df_idf_filter['solidarily'][df_idf_filter['solidarily']!=0].mean()"
   ]
  },
  {
   "cell_type": "markdown",
   "metadata": {},
   "source": [
    "#### feature with only one non-zero values. (first 100 features)\n",
    "- 5920 features with only one non-zero values."
   ]
  },
  {
   "cell_type": "code",
   "execution_count": 313,
   "metadata": {},
   "outputs": [
    {
     "name": "stdout",
     "output_type": "stream",
     "text": [
      "['swam', 'defrost', 'slugged', 'begum', 'cornea', 'cordoba', 'inquisition', 'amen', 'perchloroethylene', 'puny', 'accredit', 'whiskey', 'dude', 'unmerchantable', 'timbered', 'cade', 'pooh', 'pervasion', 'amotion', 'behooves', 'rebilling', 'arduously', 'alphabetic', 'cellist', 'ennui', 'callousness', 'intramuscularly', 'unison', 'unspent', 'republish', 'lemming', 'sprinkle', 'bonderman', 'limper', 'darst', 'sailfish', 'sear', 'punta', 'pasha', 'dern', 'quintin', 'tarnishment', 'paperback', 'wark', 'pauperism', 'ignominy', 'delusion', 'hairdressing', 'timer', 'pacemaker', 'autocratic', 'inclusively', 'mending', 'harrowing', 'investible', 'reiterative', 'thy', 'benne', 'caterer', 'scrolled', 'precipitation', 'ultrasonic', 'evacuation', 'toiled', 'affray', 'interpretatively', 'misquotation', 'throttling', 'momentary', 'reciprocation', 'oii', 'wariness', 'gaby', 'wiliness', 'granger', 'casse', 'bulger', 'incubate', 'unfroze', 'taller', 'agar', 'cameo', 'attar', 'digested', 'sune', 'anodyne', 'peculation', 'celerity', 'adapter', 'protraction', 'licensable', 'lodger', 'noisome', 'unprobated', 'imam', 'rase', 'snifter', 'intrench', 'inmost', 'jaundice']\n"
     ]
    }
   ],
   "source": [
    "print([i for i in list(eng_feature) if len(df_idf_filter[i].nonzero()[0])==1 ][:100]) #5920"
   ]
  },
  {
   "cell_type": "markdown",
   "metadata": {},
   "source": [
    "#### use the mean of values to filter out common words.\n",
    "- mean>0.002, 54 words\n",
    "- mean>0.0015, 103 words\n",
    "- mean>0.001, 203 words\n",
    "- mean>0.0005, 554 words\n",
    "- mean>0.0001, 2807 words\n",
    "- mean>0.00005, 4179 words"
   ]
  },
  {
   "cell_type": "code",
   "execution_count": 263,
   "metadata": {},
   "outputs": [
    {
     "data": {
      "image/png": "[encoded data removed]",
      "text/plain": [
       "<matplotlib.figure.Figure at 0x1a3dad70b8>"
      ]
     },
     "metadata": {},
     "output_type": "display_data"
    }
   ],
   "source": [
    "import matplotlib.pyplot as plt\n",
    "import seaborn as sns\n",
    "sns.set(color_codes=True)\n",
    "sns.distplot(df_idf_filter.mean())\n",
    "plt.show()"
   ]
  },
  {
   "cell_type": "code",
   "execution_count": 341,
   "metadata": {},
   "outputs": [
    {
     "data": {
      "text/plain": [
       "(array(['amount', 'at', 'be', 'all', 'had', 'are', 'have', 'this',\n",
       "        'motion', 'was', 'under', 'united', 'no', 'from', 'by', 'case',\n",
       "        'with', 'property', 'which', 'court', 'debtor', 'chapter', 'may',\n",
       "        'were', 'the', 'any', 'on', 'that', 'bankruptcy', 'for', 'been',\n",
       "        'their', 'claim', 'other', 'is', 'of', 'not', 'its', 'and',\n",
       "        'trustee', 'order', 'an', 'would', 'his', 'to', 'pursuant',\n",
       "        'interest', 'it', 'if', 'as', 'in', 'or', 'such', 'law'],\n",
       "       dtype=object), 54)"
      ]
     },
     "execution_count": 341,
     "metadata": {},
     "output_type": "execute_result"
    }
   ],
   "source": [
    "df_idf_filter.mean()[df_idf_filter.mean()>0.002].keys().values  #54"
   ]
  },
  {
   "cell_type": "code",
   "execution_count": 342,
   "metadata": {},
   "outputs": [
    {
     "data": {
      "text/plain": [
       "(array(['further', 'amount', 'at', 'be', 'does', 'all', 'had', 'first',\n",
       "        'are', 'have', 'estate', 'this', 'based', 'one', 'motion', 'was',\n",
       "        'hearing', 'under', 'whether', 'plan', 'united', 'against', 'no',\n",
       "        'from', 'before', 'by', 'plaintiff', 'case', 'however', 'petition',\n",
       "        'with', 'property', 'they', 'only', 'which', 'court', 'debtor',\n",
       "        'over', 'chapter', 'may', 'made', 'after', 'were', 'but',\n",
       "        'because', 'the', 'did', 'than', 'any', 'on', 'creditor', 'will',\n",
       "        'that', 'time', 'bankruptcy', 'for', 'upon', 'been', 'their',\n",
       "        'claim', 'other', 'judgment', 'between', 'act', 'judge', 'filing',\n",
       "        'is', 'of', 'state', 'section', 'not', 'its', 'and', 'trustee',\n",
       "        'there', 'order', 'when', 'an', 'would', 'issue', 'shall',\n",
       "        'matter', 'his', 'to', 'these', 'relief', 'he', 'pursuant',\n",
       "        'ordered', 'so', 'date', 'interest', 'it', 'if', 'also', 'as',\n",
       "        'in', 'complaint', 'or', 'evidence', 'party', 'such', 'law'],\n",
       "       dtype=object), 103)"
      ]
     },
     "execution_count": 342,
     "metadata": {},
     "output_type": "execute_result"
    }
   ],
   "source": [
    "df_idf_filter.mean()[df_idf_filter.mean()>0.0015].keys().values"
   ]
  },
  {
   "cell_type": "code",
   "execution_count": 343,
   "metadata": {},
   "outputs": [
    {
     "data": {
      "text/plain": [
       "(array(['agreement', 'forth', 'decision', 'further', 'debt', 'amount',\n",
       "        'following', 'at', 'lien', 'be', 'does', 'both', 'all', 'had',\n",
       "        'first', 'are', 'use', 'assets', 'sale', 'tax', 'have', 'value',\n",
       "        'estate', 'then', 'proof', 'this', 'part', 'based', 'one',\n",
       "        'dispute', 'opinion', 'motion', 'was', 'those', 'hearing', 'under',\n",
       "        'should', 'whether', 'plan', 'title', 'legal', 'fact', 'united',\n",
       "        'received', 'each', 'action', 'against', 'no', 'second', 'until',\n",
       "        'from', 'march', 'before', 'by', 'plaintiff', 'new', 'through',\n",
       "        'case', 'however', 'petition', 'with', 'notice', 'two', 'non',\n",
       "        'property', 'period', 'they', 'only', 'which', 'court', 'debtor',\n",
       "        'over', 'chapter', 'may', 'made', 'three', 'after', 'general',\n",
       "        'were', 'but', 'because', 'the', 'file', 'did', 'than', 'any',\n",
       "        'business', 'loan', 'code', 'year', 'result', 'on', 'another',\n",
       "        'august', 'set', 'creditor', 'will', 'that', 'time', 'bankruptcy',\n",
       "        'who', 'for', 'upon', 'june', 'therefore', 'been', 'their',\n",
       "        'fraud', 'funds', 'now', 'claim', 'jurisdiction', 'above', 'other',\n",
       "        'judgment', 'defendant', 'adversary', 'between', 'contract', 'act',\n",
       "        'liability', 'judge', 'due', 'filing', 'is', 'her', 'of', 'state',\n",
       "        'section', 'not', 'its', 'and', 'during', 'trustee', 'there',\n",
       "        'more', 'order', 'attorney', 'pay', 'when', 'an', 'stated',\n",
       "        'would', 'subject', 'out', 'issue', 'proceeding', 'request',\n",
       "        'circuit', 'real', 'shall', 'unsecured', 'matter', 'his',\n",
       "        'statement', 'to', 'objection', 'these', 'relief', 'discharge',\n",
       "        'he', 'counsel', 'pursuant', 'certain', 'stay', 'district', 'same',\n",
       "        'ordered', 'so', 'while', 'date', 'interest', 'could', 'it',\n",
       "        'within', 'if', 'hereby', 'into', 'trust', 'also', 'extent', 'day',\n",
       "        'cause', 'as', 'right', 'in', 'complaint', 'or', 'support',\n",
       "        'provided', 'evidence', 'argument', 'payment', 'party', 'such',\n",
       "        'without', 'federal', 'even', 'must', 'prior', 'law', 'bank',\n",
       "        'agreed'], dtype=object), 203)"
      ]
     },
     "execution_count": 343,
     "metadata": {},
     "output_type": "execute_result"
    }
   ],
   "source": [
    "df_idf_filter.mean()[df_idf_filter.mean()>0.001].keys().values"
   ]
  },
  {
   "cell_type": "code",
   "execution_count": 347,
   "metadata": {},
   "outputs": [],
   "source": [
    "#df_idf_filter.mean()[df_idf_filter.mean()>0.0005].keys().values\n",
    "#df_idf_filter.mean()[df_idf_filter.mean()>0.0001].keys().values\n",
    "#df_idf_filter.mean()[df_idf_filter.mean()>0.00005].keys().values"
   ]
  },
  {
   "cell_type": "code",
   "execution_count": 277,
   "metadata": {},
   "outputs": [
    {
     "data": {
      "image/png": "[encoded data removed]",
      "text/plain": [
       "<matplotlib.figure.Figure at 0x1a3e62e630>"
      ]
     },
     "metadata": {},
     "output_type": "display_data"
    }
   ],
   "source": [
    "import matplotlib.pyplot as plt\n",
    "import seaborn as sns\n",
    "sns.set(color_codes=True)\n",
    "sns.distplot(df_idf_filter.var())\n",
    "plt.show()"
   ]
  },
  {
   "cell_type": "markdown",
   "metadata": {},
   "source": [
    "# Dataset 8:'opinions_tfidf_feature.csv'--df_idf_feature'\n",
    "Select the features with the 500 top mean of non-value"
   ]
  },
  {
   "cell_type": "code",
   "execution_count": 355,
   "metadata": {},
   "outputs": [],
   "source": [
    "non_zero_mean = {}\n",
    "for i in df_idf_filter.columns:\n",
    "    non_zero_mean[i] = df_idf_filter[i][df_idf_filter[i]!=0].mean()"
   ]
  },
  {
   "cell_type": "code",
   "execution_count": 371,
   "metadata": {},
   "outputs": [
    {
     "data": {
      "text/plain": [
       "[('coppersmith', 0.3968748507459246),\n",
       " ('mesilla', 0.1383079596754764),\n",
       " ('tart', 0.0724329012629109),\n",
       " ('ballooning', 0.06812116110188915),\n",
       " ('swink', 0.06797557444562281),\n",
       " ('jural', 0.0630961251282168),\n",
       " ('tinder', 0.06307001805754672),\n",
       " ('handcart', 0.05779231000900225),\n",
       " ('agitator', 0.05608067358924906),\n",
       " ('adder', 0.05528739372158014),\n",
       " ('nonowner', 0.053411499060205724),\n",
       " ('unmeasured', 0.0531535767238982),\n",
       " ('commendably', 0.04984989321051761),\n",
       " ('stapler', 0.04931981262192247),\n",
       " ('marten', 0.04906451691674385),\n",
       " ('khamsin', 0.046478841821637744),\n",
       " ('shaded', 0.04491414956421965),\n",
       " ('deliberative', 0.04395970166585522),\n",
       " ('awkwardly', 0.04312300686888844),\n",
       " ('ake', 0.04142615203906621),\n",
       " ('capper', 0.039790914280574415),\n",
       " ('pasteurizer', 0.039790914280574415),\n",
       " ('presidio', 0.03962856285535903),\n",
       " ('pico', 0.03929369347553028),\n",
       " ('dolly', 0.03548913439960647),\n",
       " ('beryl', 0.035208702480142844),\n",
       " ('reunification', 0.03401523190125909),\n",
       " ('mockingbird', 0.03162592249375259),\n",
       " ('whiff', 0.030953379963211815),\n",
       " ('metallurgist', 0.0308093750873981),\n",
       " ('metallurgy', 0.0308093750873981),\n",
       " ('fascinating', 0.03070692405995962),\n",
       " ('karst', 0.030166330751895874),\n",
       " ('albino', 0.02943053695743354),\n",
       " ('hostilely', 0.02939309318632238),\n",
       " ('spewing', 0.02939309318632238),\n",
       " ('rot', 0.02758530417051883),\n",
       " ('penultima', 0.02686210692747865),\n",
       " ('trek', 0.02654018620284108),\n",
       " ('redbud', 0.0259032895758072),\n",
       " ('swain', 0.024426331275987964),\n",
       " ('greenbrier', 0.024168672625694877),\n",
       " ('blackacre', 0.023845267673944372),\n",
       " ('labeler', 0.02350115497189975),\n",
       " ('bulldog', 0.023477175396329302),\n",
       " ('brimmer', 0.023135459962715415),\n",
       " ('datum', 0.022895384540466832),\n",
       " ('seamstress', 0.022592526248461132),\n",
       " ('ptarmigan', 0.02160673343985128),\n",
       " ('nondiscrimination', 0.020590043524435428),\n",
       " ('downer', 0.020588646122993604),\n",
       " ('carrion', 0.01867877929152827),\n",
       " ('tote', 0.01867877929152827),\n",
       " ('basil', 0.018600905442758497),\n",
       " ('onion', 0.01752292048842734),\n",
       " ('stipe', 0.016706964400260368),\n",
       " ('garvey', 0.016291026640155894),\n",
       " ('tinnitus', 0.016100370698935506),\n",
       " ('hock', 0.015983023643752273),\n",
       " ('ide', 0.015898140145273684),\n",
       " ('telford', 0.015892236262457612),\n",
       " ('declarative', 0.015280066791929104),\n",
       " ('triumvirate', 0.01525803977137156),\n",
       " ('saver', 0.014814522596853919),\n",
       " ('massa', 0.014330023187128858),\n",
       " ('invariant', 0.01417432681151001),\n",
       " ('prius', 0.014169217046847647),\n",
       " ('portend', 0.014115539956244191),\n",
       " ('felty', 0.013976332031040184),\n",
       " ('consequentially', 0.013921873270067055),\n",
       " ('vestige', 0.013904486518952397),\n",
       " ('scribbled', 0.013798961366956602),\n",
       " ('torpedo', 0.013779743628169822),\n",
       " ('canto', 0.013735685434951343),\n",
       " ('audible', 0.013662240148050168),\n",
       " ('hypotension', 0.01361019109319105),\n",
       " ('bayou', 0.013362152112481273),\n",
       " ('counterpoint', 0.013248308198286518),\n",
       " ('noose', 0.013210848251814858),\n",
       " ('cruces', 0.01279211468608032),\n",
       " ('rein', 0.012514979021907907),\n",
       " ('pilgrim', 0.011710217943131658),\n",
       " ('mulligan', 0.011701294803294593),\n",
       " ('coring', 0.0115789604909319),\n",
       " ('slurry', 0.01147663601129168),\n",
       " ('moline', 0.011314380690416851),\n",
       " ('terrific', 0.011121247441803954),\n",
       " ('groff', 0.011080178756894736),\n",
       " ('nephrectomy', 0.01102474977719904),\n",
       " ('misname', 0.011010643222447523),\n",
       " ('nonconstitutional', 0.010950002996667728),\n",
       " ('gateless', 0.010950002996667728),\n",
       " ('ule', 0.010950002996667728),\n",
       " ('bely', 0.010950002996667728),\n",
       " ('dashed', 0.010643090536387796),\n",
       " ('pornography', 0.010579939763990185),\n",
       " ('impersonal', 0.010564692904741524),\n",
       " ('legit', 0.01045364961371301),\n",
       " ('transferror', 0.01045364961371301),\n",
       " ('hartin', 0.01045364961371301),\n",
       " ('quizzically', 0.01045364961371301),\n",
       " ('submaster', 0.010445007430682909),\n",
       " ('solicitor', 0.010376076323867892),\n",
       " ('gaslight', 0.010274678956112976),\n",
       " ('abbey', 0.010171457570518194),\n",
       " ('counterbalance', 0.010169361753955048),\n",
       " ('potion', 0.010083625569478324),\n",
       " ('unpacked', 0.010057108573135356),\n",
       " ('malapropism', 0.010057108573135356),\n",
       " ('nullification', 0.009868195266470274),\n",
       " ('forby', 0.009810600192406309),\n",
       " ('wantonness', 0.009773739366116573),\n",
       " ('triad', 0.009756081369204436),\n",
       " ('cytology', 0.009695650184188864),\n",
       " ('bower', 0.009624649321656924),\n",
       " ('fib', 0.009536655151761405),\n",
       " ('tec', 0.009502136470786472),\n",
       " ('pont', 0.009419303307820304),\n",
       " ('representer', 0.009412042875609926),\n",
       " ('prothonotary', 0.009316975045108365),\n",
       " ('presentence', 0.009280614937432386),\n",
       " ('stellar', 0.009241798278461314),\n",
       " ('huff', 0.009168411987986506),\n",
       " ('bullock', 0.009112892460717984),\n",
       " ('morals', 0.008950796234238055),\n",
       " ('spade', 0.008913976396617819),\n",
       " ('rutter', 0.008911916024249978),\n",
       " ('spire', 0.008888770151477347),\n",
       " ('flora', 0.008888761259510713),\n",
       " ('threadbare', 0.00883041828639949),\n",
       " ('gal', 0.008830305401157599),\n",
       " ('booklet', 0.008726991911716607),\n",
       " ('domestication', 0.008657261801132294),\n",
       " ('villa', 0.008627921136717492),\n",
       " ('tailoring', 0.008617168634568195),\n",
       " ('ass', 0.008554648515114427),\n",
       " ('grassy', 0.008505474366447637),\n",
       " ('bluebird', 0.008487378163839751),\n",
       " ('upland', 0.008467555838959695),\n",
       " ('gingerly', 0.008426966227960209),\n",
       " ('intuition', 0.008328428371035515),\n",
       " ('sleet', 0.008318387310931562),\n",
       " ('stang', 0.008274625746669099),\n",
       " ('wisteria', 0.007985256434628126),\n",
       " ('fat', 0.00791343737643677),\n",
       " ('violently', 0.007858037749696031),\n",
       " ('trolley', 0.007826298911994036),\n",
       " ('hydrated', 0.007822389519825718),\n",
       " ('urologist', 0.007822389519825718),\n",
       " ('sandman', 0.0077105402419584265),\n",
       " ('unretained', 0.007706077038739865),\n",
       " ('mistaking', 0.007601219824445353),\n",
       " ('piping', 0.00736305136235274),\n",
       " ('publicize', 0.007232622243956104),\n",
       " ('patronization', 0.007137687490105272),\n",
       " ('agust', 0.0070797846179494394),\n",
       " ('the', 0.007045360624958876),\n",
       " ('waffle', 0.0070410812318927925),\n",
       " ('disintegration', 0.007035396274709325),\n",
       " ('meridian', 0.007011898597149792),\n",
       " ('burry', 0.0069902692533161115),\n",
       " ('standish', 0.006976506823896927),\n",
       " ('suck', 0.006955451958447194),\n",
       " ('pressurize', 0.006955451958447194),\n",
       " ('jarring', 0.006946348858047886),\n",
       " ('mel', 0.006877332002623602),\n",
       " ('filler', 0.006702179740886649),\n",
       " ('pandora', 0.006682462303857859),\n",
       " ('amity', 0.0066597970985437715),\n",
       " ('strang', 0.006645028511968488),\n",
       " ('lettuce', 0.006545199036168225),\n",
       " ('earshot', 0.006545199036168225),\n",
       " ('fashionable', 0.006545199036168225),\n",
       " ('twitter', 0.006513720435305787),\n",
       " ('complementary', 0.006493071839243095),\n",
       " ('rake', 0.006443506588912775),\n",
       " ('nunnery', 0.006374560124078082),\n",
       " ('romero', 0.006361767101655286),\n",
       " ('lope', 0.006351280623310721),\n",
       " ('nuclei', 0.006351280623310721),\n",
       " ('underclass', 0.006351280623310721),\n",
       " ('buskin', 0.0063116898980670536),\n",
       " ('apportionable', 0.006302640440966837),\n",
       " ('hillsman', 0.006280206938277634),\n",
       " ('starlight', 0.006256200439012177),\n",
       " ('breathe', 0.0062525401770171735),\n",
       " ('alba', 0.006242067573372299),\n",
       " ('crested', 0.0062083503755474565),\n",
       " ('orthostatic', 0.00616490162521985),\n",
       " ('rabbit', 0.006148407961019857),\n",
       " ('semicircular', 0.006090157281714589),\n",
       " ('of', 0.00607773283519072),\n",
       " ('visceral', 0.006057534473942953),\n",
       " ('congruent', 0.0060529068555479106),\n",
       " ('belcher', 0.005965306717265478),\n",
       " ('juice', 0.00596518670779486),\n",
       " ('moorman', 0.005948661325738362),\n",
       " ('fermentation', 0.005844702941994954),\n",
       " ('lanson', 0.005843150499714428),\n",
       " ('slape', 0.005842642128396565),\n",
       " ('rebar', 0.005823950885702882),\n",
       " ('dali', 0.005820930859805712),\n",
       " ('spur', 0.00580024221150523),\n",
       " ('paradise', 0.005791426747536908),\n",
       " ('farmable', 0.005780940816324107),\n",
       " ('pictorially', 0.005730567116924026),\n",
       " ('hesitancy', 0.005694494669646613),\n",
       " ('obispo', 0.0056571004451648685),\n",
       " ('to', 0.005620280327120294),\n",
       " ('presuppose', 0.005612723752085022),\n",
       " ('charm', 0.005600558039531606),\n",
       " ('oasis', 0.00559763474180666),\n",
       " ('reforecast', 0.005587464832295267),\n",
       " ('bottle', 0.005568685187821417),\n",
       " ('parma', 0.005566827023677518),\n",
       " ('goad', 0.005542864599061154),\n",
       " ('overcrowded', 0.005535826935136288),\n",
       " ('explicate', 0.0055324975196798885),\n",
       " ('reiter', 0.005531821301839443),\n",
       " ('pressman', 0.0055104900998290025),\n",
       " ('rone', 0.005496106722483747),\n",
       " ('loll', 0.00549079279798854),\n",
       " ('domesticate', 0.00545896518131754),\n",
       " ('harden', 0.0054520764578841726),\n",
       " ('ana', 0.005442955768017003),\n",
       " ('weir', 0.005437781786860339),\n",
       " ('grim', 0.005435865853367978),\n",
       " ('bettering', 0.00542490178575024),\n",
       " ('polytechnic', 0.005402038246219073),\n",
       " ('assailable', 0.0053997387002469),\n",
       " ('and', 0.0053925894330530124),\n",
       " ('sufferance', 0.005375414077299989),\n",
       " ('punching', 0.005339867917576189),\n",
       " ('lithographic', 0.005334046838400608),\n",
       " ('predetermine', 0.00531860501965251),\n",
       " ('disguising', 0.005305974767156472),\n",
       " ('in', 0.005295919147706901),\n",
       " ('singh', 0.0052895392519016655),\n",
       " ('baptistery', 0.005288968090526022),\n",
       " ('laborious', 0.0052739048179026235),\n",
       " ('woodward', 0.005260773153305732),\n",
       " ('galet', 0.005246613036475446),\n",
       " ('blueberry', 0.005238409041171052),\n",
       " ('tedder', 0.005211885396159013),\n",
       " ('nea', 0.005159613233486852),\n",
       " ('tranter', 0.005128883297629178),\n",
       " ('unsaid', 0.005117028228479935),\n",
       " ('pipe', 0.005087685184372421),\n",
       " ('dragon', 0.005077671747053131),\n",
       " ('redivide', 0.00507330229785198),\n",
       " ('rim', 0.005055933734540516),\n",
       " ('caddy', 0.0050409595495203635),\n",
       " ('pompous', 0.0050409595495203635),\n",
       " ('pontifical', 0.0050409595495203635),\n",
       " ('sanctimonious', 0.0050409595495203635),\n",
       " ('buckeye', 0.005028843014092949),\n",
       " ('wholesome', 0.005013778483857699),\n",
       " ('hackler', 0.0050066827793395574),\n",
       " ('quell', 0.004969207115874787),\n",
       " ('solemnity', 0.004967259947951267),\n",
       " ('slush', 0.004963668930614061),\n",
       " ('adventuresome', 0.004963668930614061),\n",
       " ('omnipresent', 0.004963668930614061),\n",
       " ('tourniquet', 0.00496099657297056),\n",
       " ('hiller', 0.004959768377628818),\n",
       " ('tutu', 0.004950723965195471),\n",
       " ('brushed', 0.0049498386312391155),\n",
       " ('regroup', 0.0049495701962310994),\n",
       " ('palace', 0.004936011804472437),\n",
       " ('that', 0.004884700677938726),\n",
       " ('dyspnea', 0.004872851711832099),\n",
       " ('taker', 0.004840035607548335),\n",
       " ('rosin', 0.004834135281017393),\n",
       " ('interlude', 0.004784343709570033),\n",
       " ('pino', 0.004760190626223732),\n",
       " ('methane', 0.0047596680023624365),\n",
       " ('epidemic', 0.004746928768647856),\n",
       " ('healing', 0.004742247998324198),\n",
       " ('beard', 0.004738758637774198),\n",
       " ('caseworker', 0.004736104041759681),\n",
       " ('keach', 0.004735450524162),\n",
       " ('daube', 0.004730653963101086),\n",
       " ('hin', 0.004729010043581818),\n",
       " ('infinitive', 0.004715956131515844),\n",
       " ('nepotism', 0.0047055868132542655),\n",
       " ('populous', 0.004677979419887361),\n",
       " ('tropical', 0.004663128768543643),\n",
       " ('ungenerous', 0.004660911398322382),\n",
       " ('batt', 0.0046593024804681025),\n",
       " ('incite', 0.004643257318721903),\n",
       " ('selfsame', 0.004643257318721903),\n",
       " ('countermand', 0.004643257318721903),\n",
       " ('forementioned', 0.004643257318721903),\n",
       " ('calved', 0.004643257318721903),\n",
       " ('is', 0.004639883767649518),\n",
       " ('fitting', 0.004629225622267008),\n",
       " ('lightheaded', 0.004620029262452396),\n",
       " ('metastatic', 0.004620029262452396),\n",
       " ('cystoscopy', 0.004620029262452396),\n",
       " ('ureter', 0.004620029262452396),\n",
       " ('nodule', 0.004620029262452396),\n",
       " ('maneuver', 0.004607991412906703),\n",
       " ('macco', 0.00460320845905769),\n",
       " ('lodgment', 0.004601064289427056),\n",
       " ('lalo', 0.004584218491265418),\n",
       " ('amaze', 0.00457169765107101),\n",
       " ('dispassionate', 0.00457169765107101),\n",
       " ('pantheon', 0.00457169765107101),\n",
       " ('antidote', 0.00457169765107101),\n",
       " ('cain', 0.004527459098268848),\n",
       " ('brill', 0.004496555666167846),\n",
       " ('cardroom', 0.004489153627703412),\n",
       " ('compassion', 0.004484170754500926),\n",
       " ('buffalo', 0.004483467797182266),\n",
       " ('for', 0.004474406619042148),\n",
       " ('goi', 0.004464624744089509),\n",
       " ('dutra', 0.004450177217170032),\n",
       " ('inaptness', 0.0044147666622468456),\n",
       " ('conglomerate', 0.0043934096852385595),\n",
       " ('on', 0.004385843408769366),\n",
       " ('inauthentic', 0.0043825293526915925),\n",
       " ('undertaker', 0.0043761760858031205),\n",
       " ('romaine', 0.004359830173814169),\n",
       " ('feller', 0.004354396798102075),\n",
       " ('tic', 0.004335118866389636),\n",
       " ('flying', 0.004315475628936466),\n",
       " ('heedlessly', 0.004313540715602444),\n",
       " ('supersedure', 0.004310771412131811),\n",
       " ('indemnifier', 0.004301361075722941),\n",
       " ('insecurity', 0.004276746630623878),\n",
       " ('trey', 0.004268021987086556),\n",
       " ('macroanalysis', 0.004236724847367865),\n",
       " ('microanalysis', 0.004236724847367865),\n",
       " ('superimposition', 0.004236619684921068),\n",
       " ('impeccably', 0.004236619684921068),\n",
       " ('needlework', 0.004236619684921068),\n",
       " ('grizzle', 0.004223880885513937),\n",
       " ('writer', 0.004223510157240163),\n",
       " ('impeding', 0.004222707801675803),\n",
       " ('buddy', 0.004216485596629656),\n",
       " ('ostrich', 0.0041929483259567305),\n",
       " ('nitrogen', 0.0041838039475606305),\n",
       " ('fiddle', 0.004178766641697554),\n",
       " ('pepper', 0.004163081225021751),\n",
       " ('reissue', 0.004151482353706607),\n",
       " ('petty', 0.004134667338478442),\n",
       " ('flick', 0.004119956310999378),\n",
       " ('by', 0.0041046616511342315),\n",
       " ('redwood', 0.004092144626784119),\n",
       " ('lanum', 0.004090634218878983),\n",
       " ('maintainable', 0.004087905723510334),\n",
       " ('this', 0.004085403140489241),\n",
       " ('chinin', 0.0040566477544030635),\n",
       " ('totalitarian', 0.0040521862390015834),\n",
       " ('intracoastal', 0.004049386603968236),\n",
       " ('archaeological', 0.004039662590229405),\n",
       " ('abutter', 0.004039662590229405),\n",
       " ('submetering', 0.004039662590229405),\n",
       " ('tyrone', 0.0040381746670194625),\n",
       " ('baler', 0.004018106758124026),\n",
       " ('court', 0.004011067255070739),\n",
       " ('boring', 0.00400923624871044),\n",
       " ('as', 0.004006148440871183),\n",
       " ('barricade', 0.004004656839418375),\n",
       " ('raser', 0.003993362642130534),\n",
       " ('awhile', 0.003991531800152174),\n",
       " ('bilders', 0.003981766641003291),\n",
       " ('stonecraft', 0.00398029841163312),\n",
       " ('irrationality', 0.003970278111949442),\n",
       " ('bulkhead', 0.003963388946630796),\n",
       " ('directional', 0.003947891960804967),\n",
       " ('circuity', 0.00394751140843942),\n",
       " ('lagen', 0.0039240302216796965),\n",
       " ('unfolded', 0.0039217689777045345),\n",
       " ('fatalistic', 0.0039121980770553295),\n",
       " ('trespasser', 0.003889497561821386),\n",
       " ('aftwards', 0.0038867490820573437),\n",
       " ('sighted', 0.0038733938003062225),\n",
       " ('stenographic', 0.0038729364915761613),\n",
       " ('cotter', 0.00385549081534242),\n",
       " ('chameleon', 0.003839348440792938),\n",
       " ('debtor', 0.0038285789987459215),\n",
       " ('cotrustee', 0.003825049156957504),\n",
       " ('waterflood', 0.0038183174820941154),\n",
       " ('an', 0.003809233931878599),\n",
       " ('sher', 0.0038071226493336476),\n",
       " ('screaming', 0.0037792612835634916),\n",
       " ('saint', 0.0037721144244587538),\n",
       " ('not', 0.0037694885346118124),\n",
       " ('mosquito', 0.0037663395731009678),\n",
       " ('or', 0.0037484942872880256),\n",
       " ('entrenchment', 0.0037460265459982774),\n",
       " ('forestallment', 0.0037460265459982774),\n",
       " ('yank', 0.0037460265459982774),\n",
       " ('menacing', 0.0037448731927132947),\n",
       " ('diffident', 0.0037226287816514454),\n",
       " ('sectarian', 0.0037226287816514454),\n",
       " ('qualitative', 0.003712534419780404),\n",
       " ('infancy', 0.0036793380248648306),\n",
       " ('cooler', 0.003674247383253935),\n",
       " ('hail', 0.003663327003292881),\n",
       " ('browner', 0.0036630041362896906),\n",
       " ('continency', 0.0036630041362896906),\n",
       " ('chess', 0.0036592710016084113),\n",
       " ('wy', 0.0036498481711797585),\n",
       " ('bender', 0.0036463185644380345),\n",
       " ('misvaluation', 0.003632617910269338),\n",
       " ('concordat', 0.003632617910269338),\n",
       " ('stageman', 0.0035827691190606797),\n",
       " ('facia', 0.003567757642887343),\n",
       " ('bes', 0.0035631255225267396),\n",
       " ('empower', 0.003508617747798141),\n",
       " ('sear', 0.0035010947856150584),\n",
       " ('sanity', 0.0034923917112747714),\n",
       " ('riblet', 0.0034694270167354214),\n",
       " ('berkowitz', 0.003462989606601998),\n",
       " ('gloss', 0.0034537147905717084),\n",
       " ('bushel', 0.003453531285476908),\n",
       " ('was', 0.00344267679200782),\n",
       " ('be', 0.0034390108901313017),\n",
       " ('distillery', 0.00343746070734463),\n",
       " ('lode', 0.003436066513671577),\n",
       " ('tailings', 0.003436066513671577),\n",
       " ('knocker', 0.003436066513671577),\n",
       " ('lush', 0.003436066513671577),\n",
       " ('lackland', 0.00343177408739048),\n",
       " ('associative', 0.00343177408739048),\n",
       " ('constancy', 0.00343177408739048),\n",
       " ('commutative', 0.00343177408739048),\n",
       " ('frivolousness', 0.003403808037843531),\n",
       " ('from', 0.003402143341118542),\n",
       " ('shorten', 0.003387761641866444),\n",
       " ('subtotal', 0.0033866414866537027),\n",
       " ('errata', 0.0033661725238359336),\n",
       " ('getaway', 0.003317966158385381),\n",
       " ('reappoint', 0.0033160500358995655),\n",
       " ('montana', 0.003313280967910317),\n",
       " ('partite', 0.003311426751208966),\n",
       " ('famous', 0.003309549381996527),\n",
       " ('it', 0.00330763051180628),\n",
       " ('typicality', 0.003296172947524056),\n",
       " ('inauthenticity', 0.003294420617672477),\n",
       " ('admire', 0.003283437728424054),\n",
       " ('bankruptcy', 0.0032825634057084435),\n",
       " ('uninterested', 0.0032781113373744233),\n",
       " ('stainless', 0.0032756136587652825),\n",
       " ('officious', 0.0032665006217379856),\n",
       " ('sinister', 0.0032630937406760395),\n",
       " ('oaten', 0.003259174342013057),\n",
       " ('submeter', 0.003259174342013057),\n",
       " ('lowder', 0.003259174342013057),\n",
       " ('sweeping', 0.00325368175882282),\n",
       " ('flashlight', 0.0032387064528309),\n",
       " ('nettlesome', 0.0032309700696507905),\n",
       " ('retailer', 0.003226539192419923),\n",
       " ('thankless', 0.0032190856792577694),\n",
       " ('starfish', 0.0032054623801736834),\n",
       " ('keeler', 0.003197844907520688),\n",
       " ('bellman', 0.0031963050656834096),\n",
       " ('transferal', 0.003193083489403818),\n",
       " ('coastwise', 0.003193083489403818),\n",
       " ('souvenir', 0.003193083489403818),\n",
       " ('triumphantly', 0.003192905938847889),\n",
       " ('debar', 0.003186269381162745),\n",
       " ('remittance', 0.0031836246538941796),\n",
       " ('legatee', 0.003177569901919079),\n",
       " ('catamount', 0.0031607773465995776),\n",
       " ('menial', 0.0031560917442075686),\n",
       " ('under', 0.0031538382748706423),\n",
       " ('indelicate', 0.0031404274124537056),\n",
       " ('polo', 0.003133662632010993),\n",
       " ('convergence', 0.0031296254792435494),\n",
       " ('coupee', 0.0031287574465636513),\n",
       " ('indicium', 0.0031274261122220142),\n",
       " ('rooster', 0.0031151265770698183),\n",
       " ('soleil', 0.00311238748026868),\n",
       " ('haw', 0.003112346538375263),\n",
       " ('congestion', 0.0031107623483119583),\n",
       " ('gee', 0.003110590000326384),\n",
       " ('mishap', 0.003105739906678411),\n",
       " ('buggy', 0.0030955164074388535),\n",
       " ('buffet', 0.0030945920106060587),\n",
       " ('allied', 0.0030911927328270117),\n",
       " ('undeclared', 0.0030862031724114215),\n",
       " ('unmercifully', 0.0030835786660405695),\n",
       " ('tillable', 0.0030817204523992873),\n",
       " ('intermeddling', 0.0030649456232029228),\n",
       " ('freeway', 0.003061447184722659),\n",
       " ('winery', 0.0030555684926122074),\n",
       " ('peregrine', 0.0030503806616766506),\n",
       " ('steamship', 0.0030439556432411436),\n",
       " ('owelty', 0.003034254829098192),\n",
       " ('sartain', 0.003034254829098192),\n",
       " ('inhabit', 0.0030323594778274895),\n",
       " ('stew', 0.003028253305440957),\n",
       " ('meekly', 0.0030240745871130815),\n",
       " ('indulgently', 0.0030236579761953658),\n",
       " ('submicron', 0.0030205214590301194),\n",
       " ('evidentially', 0.00302047168084048),\n",
       " ('knack', 0.003013303323479515)]"
      ]
     },
     "execution_count": 371,
     "metadata": {},
     "output_type": "execute_result"
    }
   ],
   "source": [
    "non_zero_mean\n",
    "sorted(non_zero_mean.items(), key=lambda value: value[1], reverse = True)[:500]"
   ]
  },
  {
   "cell_type": "code",
   "execution_count": 375,
   "metadata": {},
   "outputs": [],
   "source": [
    "features = [key for (key, value) in sorted(non_zero_mean.items(),key=lambda value: value[1], reverse=True)[:500]]"
   ]
  },
  {
   "cell_type": "code",
   "execution_count": 379,
   "metadata": {},
   "outputs": [
    {
     "data": {
      "text/plain": [
       "(486, 500)"
      ]
     },
     "execution_count": 379,
     "metadata": {},
     "output_type": "execute_result"
    }
   ],
   "source": [
    "df_idf_feature = df_idf[features]\n",
    "df_idf_feature.shape"
   ]
  },
  {
   "cell_type": "code",
   "execution_count": 380,
   "metadata": {},
   "outputs": [],
   "source": [
    "df_idf_feature.to_csv('opinions_tfidf_feature.csv')"
   ]
  },
  {
   "cell_type": "code",
   "execution_count": null,
   "metadata": {},
   "outputs": [],
   "source": []
  }
 ],
 "metadata": {
  "kernelspec": {
   "display_name": "Python 3",
   "language": "python",
   "name": "python3"
  },
  "language_info": {
   "codemirror_mode": {
    "name": "ipython",
    "version": 3
   },
   "file_extension": ".py",
   "mimetype": "text/x-python",
   "name": "python",
   "nbconvert_exporter": "python",
   "pygments_lexer": "ipython3",
   "version": "3.6.4"
  }
 },
 "nbformat": 4,
 "nbformat_minor": 2
}
